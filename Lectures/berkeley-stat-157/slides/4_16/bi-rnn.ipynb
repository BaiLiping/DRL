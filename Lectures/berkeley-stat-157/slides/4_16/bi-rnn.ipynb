{
 "cells": [
  {
   "cell_type": "markdown",
   "metadata": {
    "slideshow": {
     "slide_type": "slide"
    }
   },
   "source": [
    "## Bidirectional Recurrent Neural Networks\n",
    "\n",
    "```\n",
    "I am _____ \n",
    "I am _____ very hungry,\n",
    "I am _____ very hungry, I could eat half a pig.\n",
    "```\n",
    "$$\n",
    "\\begin{aligned}\n",
    "\\overrightarrow{\\mathbf{H}}_t &= \\phi(\\mathbf{X}_t \\mathbf{W}_{xh}^{(f)} + \\overrightarrow{\\mathbf{H}}_{t-1} \\mathbf{W}_{hh}^{(f)}  + \\mathbf{b}_h^{(f)}),\\\\\n",
    "\\overleftarrow{\\mathbf{H}}_t &= \\phi(\\mathbf{X}_t \\mathbf{W}_{xh}^{(b)} + \\overleftarrow{\\mathbf{H}}_{t+1} \\mathbf{W}_{hh}^{(b)}  + \\mathbf{b}_h^{(b)}),\n",
    "\\end{aligned}\n",
    "$$\n",
    "\n",
    "Output\n",
    "\n",
    "$$\\mathbf{O}_t = \\mathbf{H}_t \\mathbf{W}_{hq} + \\mathbf{b}_q,$$"
   ]
  },
  {
   "cell_type": "markdown",
   "metadata": {
    "slideshow": {
     "slide_type": "slide"
    }
   },
   "source": [
    "### Doing it wrong"
   ]
  },
  {
   "cell_type": "code",
   "execution_count": null,
   "metadata": {},
   "outputs": [],
   "source": [
    "import sys\n",
    "sys.path.insert(0, '..')\n",
    "\n",
    "import d2l\n",
    "from mxnet import nd\n",
    "from mxnet.gluon import rnn\n",
    "\n",
    "(corpus_indices, char_to_idx, idx_to_char, vocab_size) = d2l.load_data_time_machine()\n",
    "\n",
    "num_inputs, num_hiddens, num_layers, num_outputs = vocab_size, 256, 2, vocab_size\n",
    "ctx = d2l.try_gpu()\n",
    "num_epochs, num_steps, batch_size, lr, clipping_theta = 1000, 35, 32, 100, 1e-2\n",
    "pred_period, pred_len, prefixes = 200, 50, ['traveller', 'time traveller']\n",
    "\n",
    "lstm_layer = rnn.LSTM(hidden_size = num_hiddens, num_layers=num_layers,\n",
    "                      bidirectional = True)\n",
    "model = d2l.RNNModel(lstm_layer, vocab_size)"
   ]
  },
  {
   "cell_type": "code",
   "execution_count": 1,
   "metadata": {
    "slideshow": {
     "slide_type": "slide"
    }
   },
   "outputs": [
    {
     "name": "stdout",
     "output_type": "stream",
     "text": [
      "epoch 200, perplexity 1.120558, time 0.10 sec\n",
      " - travellerererererererererererererererererererererererererer\n",
      " - time travellerererererererererererererererererererererererererer\n",
      "epoch 400, perplexity 1.054240, time 0.10 sec\n",
      " - travellers that alosesesesesesesesesesesesesesesesesesesese\n",
      " - time travellerly thickn-----------------------------------------\n",
      "epoch 600, perplexity 1.007709, time 0.10 sec\n",
      " - travellererer brececededededededededededededededededededede\n",
      " - time travellerererer brecededededededededededededededededededede\n",
      "epoch 800, perplexity 1.009584, time 0.10 sec\n",
      " - traveller (ricee thace absmondidiz getonininininininininini\n",
      " - time traveller (fffrfrfrf thee presesesesesesesesesesesesesesese\n",
      "epoch 1000, perplexity 1.005260, time 0.10 sec\n",
      " - traveller hack, why cann of thace but, anomememe. the time!\n",
      " - time traveller hack, why car rare eximitigep pooveveve:e:e:e:e:e\n"
     ]
    }
   ],
   "source": [
    "d2l.train_and_predict_rnn_gluon(model, num_hiddens, vocab_size, ctx,\n",
    "                                corpus_indices, idx_to_char, char_to_idx,\n",
    "                                num_epochs, num_steps, lr, clipping_theta,\n",
    "                                batch_size, pred_period, pred_len, prefixes)"
   ]
  }
 ],
 "metadata": {
  "celltoolbar": "Slideshow",
  "kernelspec": {
   "display_name": "Python 3",
   "language": "python",
   "name": "python3"
  },
  "language_info": {
   "codemirror_mode": {
    "name": "ipython",
    "version": 3
   },
   "file_extension": ".py",
   "mimetype": "text/x-python",
   "name": "python",
   "nbconvert_exporter": "python",
   "pygments_lexer": "ipython3",
   "version": "3.7.2"
  }
 },
 "nbformat": 4,
 "nbformat_minor": 2
}
