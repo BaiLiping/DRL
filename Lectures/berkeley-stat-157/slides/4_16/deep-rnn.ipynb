{
 "cells": [
  {
   "cell_type": "markdown",
   "metadata": {
    "slideshow": {
     "slide_type": "slide"
    }
   },
   "source": [
    "# Deep Recurrent Neural Networks\n",
    "\n",
    "Hidden state update\n",
    "\n",
    "$$\\begin{aligned}\n",
    "\\mathbf{H}_t^{(1)} & = f_1\\left(\\mathbf{X}_t, \\mathbf{H}_{t-1}^{(1)}\\right) \\\\\n",
    "\\mathbf{H}_t^{(l)} & = f_l\\left(\\mathbf{H}_t^{(l-1)}, \\mathbf{H}_{t-1}^{(l)}\\right)\n",
    "\\end{aligned}$$\n",
    "\n",
    "Output update\n",
    "\n",
    "$$\\mathbf{O}_t = g \\left(\\mathbf{H}_t^{(L)}\\right)$$"
   ]
  },
  {
   "cell_type": "code",
   "execution_count": 1,
   "metadata": {
    "attributes": {
     "classes": [],
     "id": "",
     "n": "17"
    },
    "slideshow": {
     "slide_type": "slide"
    }
   },
   "outputs": [],
   "source": [
    "import sys\n",
    "sys.path.insert(0, '..')\n",
    "\n",
    "import d2l\n",
    "from mxnet import nd\n",
    "from mxnet.gluon import rnn\n",
    "\n",
    "(corpus_indices, char_to_idx, idx_to_char, vocab_size) = d2l.load_data_time_machine()"
   ]
  },
  {
   "cell_type": "markdown",
   "metadata": {},
   "source": [
    "Same parameters as before for training."
   ]
  },
  {
   "cell_type": "code",
   "execution_count": 2,
   "metadata": {
    "attributes": {
     "classes": [],
     "id": "",
     "n": "22"
    }
   },
   "outputs": [],
   "source": [
    "num_inputs, num_hiddens, num_layers, num_outputs = vocab_size, 256, 2, vocab_size\n",
    "ctx = d2l.try_gpu()\n",
    "num_epochs, num_steps, batch_size, lr, clipping_theta = 3000, 35, 32, 100, 1e-2\n",
    "pred_period, pred_len, prefixes = 500, 50, ['traveller', 'time traveller']"
   ]
  },
  {
   "cell_type": "markdown",
   "metadata": {
    "slideshow": {
     "slide_type": "slide"
    }
   },
   "source": [
    "### Training"
   ]
  },
  {
   "cell_type": "code",
   "execution_count": 3,
   "metadata": {
    "attributes": {
     "classes": [],
     "id": "",
     "n": "8"
    }
   },
   "outputs": [
    {
     "name": "stdout",
     "output_type": "stream",
     "text": [
      "epoch 500, perplexity 1.028183, time 0.06 sec\n",
      " - traveller. 'but now you begin to see the object of my inves\n",
      " - time traveller. 'but now you begin to see the object of my inves\n",
      "epoch 1000, perplexity 1.020994, time 0.05 sec\n",
      " - traveller. 'but now you begin to see the object of my inves\n",
      " - time traveller. 'but now you begin to see the object of my inves\n",
      "epoch 1500, perplexity 1.015552, time 0.05 sec\n",
      " - traveller. 'but now you begin to see the object of my inves\n",
      " - time traveller. 'but now you begin to see the object of my inves\n",
      "epoch 2000, perplexity 1.014056, time 0.05 sec\n",
      " - traveller. 'but now you begin to see the object of my inves\n",
      " - time traveller. 'but now you begin to see the object of my inves\n",
      "epoch 2500, perplexity 1.014954, time 0.06 sec\n",
      " - traveller. 'but now you begin to see the object of my inves\n",
      " - time traveller. 'but now you begin to see the object of my inves\n",
      "epoch 3000, perplexity 1.017568, time 0.05 sec\n",
      " - traveller. 'but now you begin to see the object of my inves\n",
      " - time traveller. 'but now you begin to see the object of my inves\n"
     ]
    }
   ],
   "source": [
    "lstm_layer = rnn.LSTM(hidden_size = num_hiddens, num_layers=num_layers)\n",
    "model = d2l.RNNModel(lstm_layer, vocab_size)\n",
    "d2l.train_and_predict_rnn_gluon(model, num_hiddens, vocab_size, ctx,\n",
    "                                corpus_indices, idx_to_char, char_to_idx,\n",
    "                                num_epochs, num_steps, lr, clipping_theta,\n",
    "                                batch_size, pred_period, pred_len, prefixes)"
   ]
  }
 ],
 "metadata": {
  "celltoolbar": "Slideshow",
  "kernelspec": {
   "display_name": "Python 3",
   "language": "python",
   "name": "python3"
  },
  "language_info": {
   "codemirror_mode": {
    "name": "ipython",
    "version": 3
   },
   "file_extension": ".py",
   "mimetype": "text/x-python",
   "name": "python",
   "nbconvert_exporter": "python",
   "pygments_lexer": "ipython3",
   "version": "3.7.2"
  }
 },
 "nbformat": 4,
 "nbformat_minor": 2
}
