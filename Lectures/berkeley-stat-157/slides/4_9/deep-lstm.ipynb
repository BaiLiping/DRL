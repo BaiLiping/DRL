{
 "cells": [
  {
   "cell_type": "markdown",
   "metadata": {
    "slideshow": {
     "slide_type": "slide"
    }
   },
   "source": [
    "### Deep LSTM"
   ]
  },
  {
   "cell_type": "code",
   "execution_count": 1,
   "metadata": {
    "attributes": {
     "classes": [],
     "id": "",
     "n": "1"
    }
   },
   "outputs": [],
   "source": [
    "import sys\n",
    "sys.path.insert(0, '..')\n",
    "\n",
    "import d2l\n",
    "from mxnet import nd\n",
    "from mxnet.gluon import rnn\n",
    "\n",
    "(corpus_indices, char_to_idx, idx_to_char, vocab_size) = d2l.load_data_time_machine()"
   ]
  },
  {
   "cell_type": "code",
   "execution_count": 2,
   "metadata": {
    "attributes": {
     "classes": [],
     "id": "",
     "n": "5"
    }
   },
   "outputs": [],
   "source": [
    "num_inputs, num_hiddens, num_layers, num_outputs = vocab_size, 256, 2, vocab_size\n",
    "ctx = d2l.try_gpu()\n",
    "num_epochs, num_steps, batch_size, lr, clipping_theta = 3000, 35, 32, 100, 1e-2\n",
    "pred_period, pred_len, prefixes = 500, 50, ['traveller', 'time traveller']\n",
    "lstm_layer = rnn.LSTM(hidden_size = num_hiddens, num_layers=num_layers)\n",
    "model = d2l.RNNModel(lstm_layer, vocab_size)"
   ]
  },
  {
   "cell_type": "code",
   "execution_count": 3,
   "metadata": {
    "attributes": {
     "classes": [],
     "id": "",
     "n": "6"
    },
    "slideshow": {
     "slide_type": "slide"
    }
   },
   "outputs": [
    {
     "name": "stdout",
     "output_type": "stream",
     "text": [
      "epoch 500, perplexity 10.935834, time 1.03 sec\n",
      " - traveller and the the here tore time tire mere the time tro\n",
      " - time traveller aon the pire trove lerou the thang trive lir anl \n",
      "epoch 1000, perplexity 2.045100, time 1.17 sec\n",
      " - traveller bacy, hecrey thene os co blcans that ic just suer\n",
      " - time traveller, and wos asoull pnsif cye tivede tr an  hiw tove \n",
      "epoch 1500, perplexity 1.154009, time 1.03 sec\n",
      " - traveller' aree of the bademato. sy incedest bertang atrowt\n",
      " - time traveller, abe bo bs.an or mensited to  pe proule t s at. r\n",
      "epoch 2000, perplexity 1.104603, time 1.07 sec\n",
      " - travellert 'but now you begin to see the object of my inves\n",
      " - time traveller. 'but now you began to see the object of my inves\n",
      "epoch 2500, perplexity 1.082747, time 1.06 sec\n",
      " - traveller. 'but now you begin to see the object of my inves\n",
      " - time traveller, 'sut now you begin to see the object of my inves\n",
      "epoch 3000, perplexity 1.292862, time 1.03 sec\n",
      " - traveller. 'but now you begin to see the object of my inves\n",
      " - time traveller, 'but now you begin to see the object of my inves\n"
     ]
    }
   ],
   "source": [
    "d2l.train_and_predict_rnn_gluon(model, num_hiddens, vocab_size, ctx, corpus_indices, \n",
    "                idx_to_char, char_to_idx, num_epochs, num_steps, lr, clipping_theta,\n",
    "                batch_size, pred_period, pred_len, prefixes)"
   ]
  }
 ],
 "metadata": {
  "celltoolbar": "Slideshow",
  "kernelspec": {
   "display_name": "Python 3",
   "language": "python",
   "name": "python3"
  },
  "language_info": {
   "codemirror_mode": {
    "name": "ipython",
    "version": 3
   },
   "file_extension": ".py",
   "mimetype": "text/x-python",
   "name": "python",
   "nbconvert_exporter": "python",
   "pygments_lexer": "ipython3",
   "version": "3.7.2"
  }
 },
 "nbformat": 4,
 "nbformat_minor": 2
}
