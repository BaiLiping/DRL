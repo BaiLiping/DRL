{
 "cells": [
  {
   "cell_type": "markdown",
   "metadata": {
    "slideshow": {
     "slide_type": "slide"
    }
   },
   "source": [
    "### Gated Recurrent Unit"
   ]
  },
  {
   "cell_type": "code",
   "execution_count": 1,
   "metadata": {
    "attributes": {
     "classes": [],
     "id": "",
     "n": "1"
    }
   },
   "outputs": [],
   "source": [
    "import sys\n",
    "sys.path.insert(0, '..')\n",
    "\n",
    "import d2l\n",
    "from mxnet import nd\n",
    "from mxnet.gluon import rnn\n",
    "\n",
    "(corpus_indices, char_to_idx, idx_to_char, vocab_size) = d2l.load_data_time_machine()\n",
    "num_inputs, num_hiddens, num_outputs = vocab_size, 256, vocab_size\n",
    "ctx = d2l.try_gpu()"
   ]
  },
  {
   "cell_type": "markdown",
   "metadata": {
    "slideshow": {
     "slide_type": "slide"
    }
   },
   "source": [
    "### Implementation from Scratch"
   ]
  },
  {
   "cell_type": "code",
   "execution_count": 2,
   "metadata": {
    "attributes": {
     "classes": [],
     "id": "",
     "n": "2"
    }
   },
   "outputs": [],
   "source": [
    "def get_params():\n",
    "    def _one(shape):\n",
    "        return nd.random.normal(scale=0.01, shape=shape, ctx=ctx)\n",
    "\n",
    "    def _three():\n",
    "        return (_one((num_inputs, num_hiddens)),\n",
    "                _one((num_hiddens, num_hiddens)),\n",
    "                nd.zeros(num_hiddens, ctx=ctx))\n",
    "\n",
    "    W_xz, W_hz, b_z = _three()  # Update gate parameter\n",
    "    W_xr, W_hr, b_r = _three()  # Reset gate parameter\n",
    "    W_xh, W_hh, b_h = _three()  # Candidate hidden state parameter\n",
    "    # Output layer parameters\n",
    "    W_hq = _one((num_hiddens, num_outputs))\n",
    "    b_q = nd.zeros(num_outputs, ctx=ctx)\n",
    "    # Create gradient\n",
    "    params = [W_xz, W_hz, b_z, W_xr, W_hr, b_r, W_xh, W_hh, b_h, W_hq, b_q]\n",
    "    for param in params:\n",
    "        param.attach_grad()\n",
    "    return params"
   ]
  },
  {
   "cell_type": "markdown",
   "metadata": {
    "slideshow": {
     "slide_type": "slide"
    }
   },
   "source": [
    "### Define the Model"
   ]
  },
  {
   "cell_type": "code",
   "execution_count": 3,
   "metadata": {
    "attributes": {
     "classes": [],
     "id": "",
     "n": "3"
    }
   },
   "outputs": [],
   "source": [
    "def init_gru_state(batch_size, num_hiddens, ctx):\n",
    "    return (nd.zeros(shape=(batch_size, num_hiddens), ctx=ctx), )"
   ]
  },
  {
   "cell_type": "code",
   "execution_count": 4,
   "metadata": {
    "attributes": {
     "classes": [],
     "id": "",
     "n": "4"
    }
   },
   "outputs": [],
   "source": [
    "def gru(inputs, state, params):\n",
    "    W_xz, W_hz, b_z, W_xr, W_hr, b_r, W_xh, W_hh, b_h, W_hq, b_q = params\n",
    "    H, = state\n",
    "    outputs = []\n",
    "    for X in inputs:\n",
    "        Z = nd.sigmoid(nd.dot(X, W_xz) + nd.dot(H, W_hz) + b_z)\n",
    "        R = nd.sigmoid(nd.dot(X, W_xr) + nd.dot(H, W_hr) + b_r)\n",
    "        H_tilda = nd.tanh(nd.dot(X, W_xh) + R * nd.dot(H, W_hh) + b_h)\n",
    "        H = Z * H + (1 - Z) * H_tilda\n",
    "        Y = nd.dot(H, W_hq) + b_q\n",
    "        outputs.append(Y)\n",
    "    return outputs, (H,)"
   ]
  },
  {
   "cell_type": "markdown",
   "metadata": {
    "slideshow": {
     "slide_type": "slide"
    }
   },
   "source": [
    "### Train the Model"
   ]
  },
  {
   "cell_type": "code",
   "execution_count": 5,
   "metadata": {
    "attributes": {
     "classes": [],
     "id": "",
     "n": "5"
    }
   },
   "outputs": [],
   "source": [
    "num_epochs, num_steps, batch_size, lr, clipping_theta = 160, 35, 32, 1e2, 1e-2\n",
    "pred_period, pred_len, prefixes = 40, 50, ['traveller', 'time traveller']"
   ]
  },
  {
   "cell_type": "code",
   "execution_count": 6,
   "metadata": {
    "slideshow": {
     "slide_type": "slide"
    }
   },
   "outputs": [
    {
     "name": "stdout",
     "output_type": "stream",
     "text": [
      "epoch 40, perplexity 7.740170, time 0.76 sec\n",
      " - traveller and the the the the the the the the the the the t\n",
      " - time traveller the the the the the the the the the the the the t\n",
      "epoch 80, perplexity 3.347345, time 0.77 sec\n",
      " - traveller.  'but is all the preal existence, but you and wi\n",
      " - time traveller the presence be and we have in the persally of th\n",
      "epoch 120, perplexity 1.350327, time 0.83 sec\n",
      " - traveller, way it lalk beenow we conventented, and why cann\n",
      " - time traveller, with a conili, and his facknon space pespli badk\n",
      "epoch 160, perplexity 1.147413, time 0.77 sec\n",
      " - traveller. 'but now you begin to see the object of my.ink s\n",
      " - time traveller (for so it will be convenient to speak of him) wa\n"
     ]
    }
   ],
   "source": [
    "d2l.train_and_predict_rnn(gru, get_params, init_gru_state, num_hiddens,\n",
    "                         vocab_size, ctx, corpus_indices, idx_to_char,\n",
    "                         char_to_idx, False, num_epochs, num_steps, lr,\n",
    "                         clipping_theta, batch_size, pred_period, pred_len,\n",
    "                         prefixes)"
   ]
  },
  {
   "cell_type": "markdown",
   "metadata": {
    "slideshow": {
     "slide_type": "slide"
    }
   },
   "source": [
    "### Gluon Implementation"
   ]
  },
  {
   "cell_type": "code",
   "execution_count": 7,
   "metadata": {
    "attributes": {
     "classes": [],
     "id": "",
     "n": "6"
    }
   },
   "outputs": [
    {
     "name": "stdout",
     "output_type": "stream",
     "text": [
      "epoch 40, perplexity 7.779318, time 0.40 sec\n",
      " - traveller the the the the the the the the the the the the t\n",
      " - time traveller the the the the the the the the the the the the t\n",
      "epoch 80, perplexity 3.565889, time 0.50 sec\n",
      " - traveller.  'it as movent of space, and the there is allous\n",
      " - time traveller.  'it as think the psychologist.  'you cand to th\n",
      "epoch 120, perplexity 1.423461, time 0.41 sec\n",
      " - traveller.  'you can show black fory. but were young man.  \n",
      " - time traveller.  'you can show black fory. butteer, and there wa\n",
      "epoch 160, perplexity 1.118035, time 0.43 sec\n",
      " - traveller. 'ftracines, and ary always beend, weat you at us\n",
      " - time traveller.  'you can show black is white by argument,' said\n"
     ]
    }
   ],
   "source": [
    "gru_layer = rnn.GRU(num_hiddens)\n",
    "model = d2l.RNNModel(gru_layer, vocab_size)\n",
    "d2l.train_and_predict_rnn_gluon(model, num_hiddens, vocab_size, ctx,\n",
    "                               corpus_indices, idx_to_char, char_to_idx,\n",
    "                               num_epochs, num_steps, lr, clipping_theta,\n",
    "                               batch_size, pred_period, pred_len, prefixes)"
   ]
  }
 ],
 "metadata": {
  "celltoolbar": "Slideshow",
  "kernelspec": {
   "display_name": "Python 3",
   "language": "python",
   "name": "python3"
  },
  "language_info": {
   "codemirror_mode": {
    "name": "ipython",
    "version": 3
   },
   "file_extension": ".py",
   "mimetype": "text/x-python",
   "name": "python",
   "nbconvert_exporter": "python",
   "pygments_lexer": "ipython3",
   "version": "3.7.2"
  }
 },
 "nbformat": 4,
 "nbformat_minor": 2
}
