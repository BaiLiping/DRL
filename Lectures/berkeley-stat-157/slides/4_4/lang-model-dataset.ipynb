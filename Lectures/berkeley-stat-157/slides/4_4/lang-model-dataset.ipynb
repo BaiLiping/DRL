{
 "cells": [
  {
   "cell_type": "markdown",
   "metadata": {
    "slideshow": {
     "slide_type": "slide"
    }
   },
   "source": [
    "### Text Preprocessing"
   ]
  },
  {
   "cell_type": "code",
   "execution_count": 2,
   "metadata": {
    "attributes": {
     "classes": [],
     "id": "",
     "n": "10"
    }
   },
   "outputs": [
    {
     "name": "stdout",
     "output_type": "stream",
     "text": [
      "number of characters:  178605\n",
      "the time machine, by h. g. wells [1898] i the time traveller (for so i\n"
     ]
    }
   ],
   "source": [
    "import sys\n",
    "sys.path.insert(0, '..')\n",
    "\n",
    "from mxnet import nd\n",
    "import random\n",
    "\n",
    "with open('data/timemachine.txt', 'r') as f:\n",
    "    lines = f.readlines()\n",
    "    raw_dataset = ' '.join(' '.join(lines).lower().split())\n",
    "\n",
    "print('number of characters: ', len(raw_dataset))\n",
    "print(raw_dataset[0:70])"
   ]
  },
  {
   "cell_type": "markdown",
   "metadata": {
    "slideshow": {
     "slide_type": "slide"
    }
   },
   "source": [
    "### Character Index"
   ]
  },
  {
   "cell_type": "code",
   "execution_count": 3,
   "metadata": {
    "attributes": {
     "classes": [],
     "id": "",
     "n": "13"
    }
   },
   "outputs": [
    {
     "name": "stdout",
     "output_type": "stream",
     "text": [
      "{',': 0, 's': 1, '1': 2, 'o': 3, 'r': 4, 'u': 5, 'j': 6, 'l': 7, 'w': 8, 'h': 9, '?': 10, '[': 11, 't': 12, 'k': 13, '\"': 14, 'x': 15, '-': 16, ')': 17, '.': 18, 'e': 19, 'n': 20, 'f': 21, 'c': 22, 'g': 23, 'z': 24, ':': 25, ']': 26, 'a': 27, 'd': 28, 'm': 29, 'p': 30, '(': 31, ';': 32, 'b': 33, 'i': 34, ' ': 35, '8': 36, 'y': 37, 'q': 38, 'v': 39, \"'\": 40, '_': 41, '!': 42, '9': 43}\n"
     ]
    }
   ],
   "source": [
    "idx_to_char = list(set(raw_dataset))\n",
    "char_to_idx = dict([(char, i) for i, char in enumerate(idx_to_char)])\n",
    "vocab_size = len(char_to_idx)\n",
    "print(char_to_idx)"
   ]
  },
  {
   "cell_type": "markdown",
   "metadata": {
    "slideshow": {
     "slide_type": "slide"
    }
   },
   "source": [
    "Converting it back to text"
   ]
  },
  {
   "cell_type": "code",
   "execution_count": 4,
   "metadata": {
    "attributes": {
     "classes": [],
     "id": "",
     "n": "15"
    }
   },
   "outputs": [
    {
     "name": "stdout",
     "output_type": "stream",
     "text": [
      "chars: the time machine, by\n",
      "indices: [12, 9, 19, 35, 12, 34, 29, 19, 35, 29, 27, 22, 9, 34, 20, 19, 0, 35, 33, 37]\n"
     ]
    }
   ],
   "source": [
    "corpus_indices = [char_to_idx[char] for char in raw_dataset]\n",
    "sample = corpus_indices[:20]\n",
    "print('chars:', ''.join([idx_to_char[idx] for idx in sample]))\n",
    "print('indices:', sample)"
   ]
  },
  {
   "cell_type": "markdown",
   "metadata": {
    "slideshow": {
     "slide_type": "slide"
    }
   },
   "source": [
    "### Random Sampling"
   ]
  },
  {
   "cell_type": "code",
   "execution_count": 5,
   "metadata": {
    "attributes": {
     "classes": [],
     "id": "",
     "n": "5"
    }
   },
   "outputs": [],
   "source": [
    "# This function is saved in the d2l package for future use.\n",
    "def data_iter_random(corpus_indices, batch_size, num_steps, ctx=None):\n",
    "    # offset for the iterator over the data for uniform starts\n",
    "    offset = int(random.uniform(0,num_steps))\n",
    "    corpus_indices = corpus_indices[offset:]\n",
    "    # subtract 1 extra since we need to account for the sequence length\n",
    "    num_examples = ((len(corpus_indices) - 1) // num_steps) - 1\n",
    "    # discard half empty batches\n",
    "    num_batches = num_examples // batch_size\n",
    "    example_indices = list(range(0, num_examples * num_steps, num_steps))\n",
    "    random.shuffle(example_indices)\n",
    "    \n",
    "    # This returns a sequence of the length num_steps starting from pos.\n",
    "    def _data(pos):\n",
    "        return corpus_indices[pos: pos + num_steps]\n",
    "\n",
    "    for i in range(0, batch_size * num_batches, batch_size):\n",
    "        # batch_size indicates the random examples read each time.\n",
    "        batch_indices = example_indices[i:(i+batch_size)]\n",
    "        X = [_data(j) for j in batch_indices]\n",
    "        Y = [_data(j + 1) for j in batch_indices]       \n",
    "\n",
    "        yield nd.array(X, ctx), nd.array(Y, ctx)"
   ]
  },
  {
   "cell_type": "markdown",
   "metadata": {
    "slideshow": {
     "slide_type": "slide"
    }
   },
   "source": [
    "### Example\n",
    "\n",
    "Batch size 2 and time steps is 5 for a sequence of length 30."
   ]
  },
  {
   "cell_type": "code",
   "execution_count": 8,
   "metadata": {
    "attributes": {
     "classes": [],
     "id": "",
     "n": "6"
    }
   },
   "outputs": [
    {
     "name": "stdout",
     "output_type": "stream",
     "text": [
      "X:  \n",
      "[[17. 18. 19. 20. 21.]\n",
      " [ 7.  8.  9. 10. 11.]]\n",
      "<NDArray 2x5 @cpu(0)> \n",
      "Y: \n",
      "[[18. 19. 20. 21. 22.]\n",
      " [ 8.  9. 10. 11. 12.]]\n",
      "<NDArray 2x5 @cpu(0)>\n",
      "X:  \n",
      "[[12. 13. 14. 15. 16.]\n",
      " [ 2.  3.  4.  5.  6.]]\n",
      "<NDArray 2x5 @cpu(0)> \n",
      "Y: \n",
      "[[13. 14. 15. 16. 17.]\n",
      " [ 3.  4.  5.  6.  7.]]\n",
      "<NDArray 2x5 @cpu(0)>\n"
     ]
    }
   ],
   "source": [
    "my_seq = list(range(30))\n",
    "for X, Y in data_iter_random(my_seq, batch_size=2, num_steps=5):\n",
    "    print('X: ', X, '\\nY:', Y)"
   ]
  },
  {
   "cell_type": "markdown",
   "metadata": {
    "slideshow": {
     "slide_type": "slide"
    }
   },
   "source": [
    "### Sequential partitioning\n",
    "\n",
    "Adjacent positioning of minibatches. This way we can retain the latent state between batches. "
   ]
  },
  {
   "cell_type": "code",
   "execution_count": 9,
   "metadata": {
    "attributes": {
     "classes": [],
     "id": "",
     "n": "7"
    }
   },
   "outputs": [],
   "source": [
    "# This function is saved in the d2l package for future use.\n",
    "def data_iter_consecutive(corpus_indices, batch_size, num_steps, ctx=None):\n",
    "    # offset for the iterator over the data for uniform starts\n",
    "    offset = int(random.uniform(0,num_steps))\n",
    "    # slice out data - ignore num_steps and just wrap around\n",
    "    num_indices = ((len(corpus_indices) - offset) // batch_size) * batch_size\n",
    "    indices = nd.array(corpus_indices[offset:(offset + num_indices)], ctx=ctx)\n",
    "    indices = indices.reshape((batch_size,-1))\n",
    "    # need to leave one last token since targets are shifted by 1\n",
    "    num_epochs = ((num_indices // batch_size) - 1) // num_steps\n",
    "\n",
    "    for i in range(0, num_epochs * num_steps, num_steps):\n",
    "        X = indices[:,i:(i+num_steps)]\n",
    "        Y = indices[:,(i+1):(i+1+num_steps)]\n",
    "        yield X, Y"
   ]
  },
  {
   "cell_type": "markdown",
   "metadata": {
    "slideshow": {
     "slide_type": "slide"
    }
   },
   "source": [
    "### Example partitioning"
   ]
  },
  {
   "cell_type": "code",
   "execution_count": 12,
   "metadata": {
    "attributes": {
     "classes": [],
     "id": "",
     "n": "8"
    }
   },
   "outputs": [
    {
     "name": "stdout",
     "output_type": "stream",
     "text": [
      "X:  \n",
      "[[ 2.  3.  4.  5.  6.  7.]\n",
      " [16. 17. 18. 19. 20. 21.]]\n",
      "<NDArray 2x6 @cpu(0)> \n",
      "Y: \n",
      "[[ 3.  4.  5.  6.  7.  8.]\n",
      " [17. 18. 19. 20. 21. 22.]]\n",
      "<NDArray 2x6 @cpu(0)>\n",
      "X:  \n",
      "[[ 8.  9. 10. 11. 12. 13.]\n",
      " [22. 23. 24. 25. 26. 27.]]\n",
      "<NDArray 2x6 @cpu(0)> \n",
      "Y: \n",
      "[[ 9. 10. 11. 12. 13. 14.]\n",
      " [23. 24. 25. 26. 27. 28.]]\n",
      "<NDArray 2x6 @cpu(0)>\n"
     ]
    }
   ],
   "source": [
    "for X, Y in data_iter_consecutive(my_seq, batch_size=2, num_steps=6):\n",
    "    print('X: ', X, '\\nY:', Y)"
   ]
  }
 ],
 "metadata": {
  "celltoolbar": "Slideshow",
  "kernelspec": {
   "display_name": "Python 3",
   "language": "python",
   "name": "python3"
  },
  "language_info": {
   "codemirror_mode": {
    "name": "ipython",
    "version": 3
   },
   "file_extension": ".py",
   "mimetype": "text/x-python",
   "name": "python",
   "nbconvert_exporter": "python",
   "pygments_lexer": "ipython3",
   "version": "3.7.2"
  }
 },
 "nbformat": 4,
 "nbformat_minor": 2
}
