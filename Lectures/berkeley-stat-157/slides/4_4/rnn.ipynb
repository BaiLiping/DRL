{
 "cells": [
  {
   "cell_type": "markdown",
   "metadata": {
    "slideshow": {
     "slide_type": "slide"
    }
   },
   "source": [
    "### Recurrent Neural Networks"
   ]
  },
  {
   "cell_type": "code",
   "execution_count": null,
   "metadata": {
    "attributes": {
     "classes": [],
     "id": "",
     "n": "1"
    }
   },
   "outputs": [],
   "source": [
    "from mxnet import nd\n",
    "\n",
    "# Data X and hidden state H\n",
    "X = nd.random.normal(shape=(3, 1))\n",
    "H = nd.random.normal(shape=(3, 2))\n",
    "\n",
    "# Weights\n",
    "W_xh = nd.random.normal(shape=(1, 2))\n",
    "W_hh = nd.random.normal(shape=(2, 2))\n",
    "W_hq = nd.random.normal(shape=(2, 3))\n",
    "\n",
    "def net(X, H):\n",
    "    H = nd.relu(nd.dot(X, W_xh) + nd.dot(H, W_hh))\n",
    "    O = nd.relu(nd.dot(H, W_hq))\n",
    "    return H, O"
   ]
  },
  {
   "cell_type": "markdown",
   "metadata": {
    "slideshow": {
     "slide_type": "slide"
    }
   },
   "source": [
    "### One step update"
   ]
  },
  {
   "cell_type": "code",
   "execution_count": null,
   "metadata": {},
   "outputs": [],
   "source": [
    "(H, O) = net(X,H)\n",
    "print(H, O)"
   ]
  }
 ],
 "metadata": {
  "celltoolbar": "Slideshow",
  "kernelspec": {
   "display_name": "Python 3",
   "language": "python",
   "name": "python3"
  },
  "language_info": {
   "codemirror_mode": {
    "name": "ipython",
    "version": 3
   },
   "file_extension": ".py",
   "mimetype": "text/x-python",
   "name": "python",
   "nbconvert_exporter": "python",
   "pygments_lexer": "ipython3",
   "version": "3.7.2"
  }
 },
 "nbformat": 4,
 "nbformat_minor": 2
}
