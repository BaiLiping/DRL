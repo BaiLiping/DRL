{
 "cells": [
  {
   "cell_type": "markdown",
   "metadata": {
    "slideshow": {
     "slide_type": "slide"
    }
   },
   "source": [
    "# Numerical Stability and Initialization"
   ]
  },
  {
   "cell_type": "code",
   "execution_count": 1,
   "metadata": {},
   "outputs": [],
   "source": [
    "%matplotlib inline\n",
    "import math\n",
    "from mxnet import nd, autograd\n",
    "from matplotlib import pyplot as plt\n",
    "from IPython import display\n",
    "display.set_matplotlib_formats('svg')"
   ]
  },
  {
   "cell_type": "markdown",
   "metadata": {
    "slideshow": {
     "slide_type": "slide"
    }
   },
   "source": [
    "## Product of Random Matrices"
   ]
  },
  {
   "cell_type": "code",
   "execution_count": 2,
   "metadata": {},
   "outputs": [],
   "source": [
    "def prod_rand_matrices(scale, k):\n",
    "    Y = nd.diag(nd.ones(k))\n",
    "    for i in range(100):\n",
    "        W = nd.random.normal(shape=(k,k), scale=scale)\n",
    "        Y = nd.dot(W, Y)\n",
    "    return Y"
   ]
  },
  {
   "cell_type": "markdown",
   "metadata": {
    "slideshow": {
     "slide_type": "slide"
    }
   },
   "source": [
    "## Sensitive "
   ]
  },
  {
   "cell_type": "code",
   "execution_count": 3,
   "metadata": {
    "scrolled": false
   },
   "outputs": [
    {
     "name": "stdout",
     "output_type": "stream",
     "text": [
      "\n",
      "[[ 7.7827990e-06  6.3514190e-06 -6.3311933e-07 -4.8334055e-06]\n",
      " [-1.2880527e-05 -1.0511586e-05  1.0478124e-06  7.9992806e-06]\n",
      " [-3.1772654e-06 -2.5929123e-06  2.5846600e-07  1.9731981e-06]\n",
      " [ 3.1247484e-05  2.5500563e-05 -2.5419379e-06 -1.9405838e-05]]\n",
      "<NDArray 4x4 @cpu(0)>\n",
      "\n",
      "[[ 9.0700534e+09 -1.3179782e+10  3.0834102e+10 -5.8214457e+10]\n",
      " [-1.0173414e+10  1.4783087e+10 -3.4585031e+10  6.5296171e+10]\n",
      " [-1.4496120e+10  2.1064452e+10 -4.9280287e+10  9.3040656e+10]\n",
      " [-3.3476849e+09  4.8645524e+09 -1.1380619e+10  2.1486488e+10]]\n",
      "<NDArray 4x4 @cpu(0)>\n"
     ]
    }
   ],
   "source": [
    "print(prod_rand_matrices(.5, 4))\n",
    "print(prod_rand_matrices(.7, 4))"
   ]
  },
  {
   "cell_type": "markdown",
   "metadata": {
    "slideshow": {
     "slide_type": "slide"
    }
   },
   "source": [
    "## Synthetic Gradients for MLP\n"
   ]
  },
  {
   "cell_type": "code",
   "execution_count": 4,
   "metadata": {},
   "outputs": [],
   "source": [
    "def synthetic_grad(k, sigma, d_sigma, get_weight):\n",
    "    res = []\n",
    "    for repeat in range(10):\n",
    "        x = nd.random.normal(shape=k)\n",
    "        h = nd.ones(k)\n",
    "        Y = nd.diag(nd.ones(k))\n",
    "        for i in range(50):\n",
    "            W = get_weight((k, k))\n",
    "            Wh = nd.dot(W, h)\n",
    "            Y = nd.dot(d_sigma(Wh)*W.T, Y)\n",
    "            h = sigma(Wh)\n",
    "        res.append(Y.abs().mean().asscalar())\n",
    "    return sum(res)/len(res)"
   ]
  },
  {
   "cell_type": "markdown",
   "metadata": {
    "slideshow": {
     "slide_type": "slide"
    }
   },
   "source": [
    "## ReLU \n",
    "\n"
   ]
  },
  {
   "cell_type": "code",
   "execution_count": 5,
   "metadata": {},
   "outputs": [
    {
     "name": "stdout",
     "output_type": "stream",
     "text": [
      "scale 0.1 gradient mean 1.500646751306789e-09\n",
      "scale 0.2 gradient mean 942470.1375\n",
      "scale 0.4 gradient mean 1.5052397923059011e+21\n",
      "scale 0.8 gradient mean nan\n"
     ]
    }
   ],
   "source": [
    "k = 100\n",
    "sigma = nd.relu\n",
    "d_sigma = lambda x : x > 0\n",
    "def get_weight(scale):\n",
    "    return lambda shape : nd.random.normal(scale=scale, shape=shape)\n",
    "\n",
    "for scale in [0.1, 0.2, 0.4, 0.8]:\n",
    "    print('scale', scale, 'gradient mean', \n",
    "          synthetic_grad(k, sigma, d_sigma, get_weight(scale)))"
   ]
  },
  {
   "cell_type": "markdown",
   "metadata": {
    "slideshow": {
     "slide_type": "slide"
    }
   },
   "source": [
    "## Xavier"
   ]
  },
  {
   "cell_type": "code",
   "execution_count": 6,
   "metadata": {},
   "outputs": [
    {
     "data": {
      "text/plain": [
       "1.1741994654368427e-09"
      ]
     },
     "execution_count": 6,
     "metadata": {},
     "output_type": "execute_result"
    }
   ],
   "source": [
    "scale = (6.0/(k+k))**.5\n",
    "xavier = lambda shape : nd.random.uniform(low=-scale, high=scale, shape=shape)\n",
    "synthetic_grad(k, sigma, d_sigma, xavier)"
   ]
  },
  {
   "cell_type": "markdown",
   "metadata": {
    "slideshow": {
     "slide_type": "slide"
    }
   },
   "source": [
    "## Sigmoid"
   ]
  },
  {
   "cell_type": "code",
   "execution_count": 7,
   "metadata": {},
   "outputs": [
    {
     "name": "stdout",
     "output_type": "stream",
     "text": [
      "scale 0.1 gradient mean 2.6142704253955312e-33\n",
      "scale 0.2 gradient mean 3.3892738677569894e-21\n",
      "scale 0.4 gradient mean 3.753343100730555e-12\n",
      "scale 0.8 gradient mean 5.702634398403461e-05\n"
     ]
    }
   ],
   "source": [
    "sigma = nd.sigmoid\n",
    "d_sigma = lambda x : (1-nd.sigmoid(x))*nd.sigmoid(x)\n",
    "for scale in [0.1, 0.2, 0.4, 0.8]:\n",
    "    print('scale', scale, 'gradient mean',\n",
    "          synthetic_grad(k, sigma, d_sigma, get_weight(scale)))"
   ]
  },
  {
   "cell_type": "markdown",
   "metadata": {
    "slideshow": {
     "slide_type": "slide"
    }
   },
   "source": [
    "## Scaled Sigmoid\n"
   ]
  },
  {
   "cell_type": "code",
   "execution_count": 8,
   "metadata": {},
   "outputs": [
    {
     "name": "stdout",
     "output_type": "stream",
     "text": [
      "scale 0.1 gradient mean 0.014177062083035707\n",
      "scale 0.2 gradient mean 127.29893550872802\n",
      "scale 0.4 gradient mean 53951930.55\n",
      "scale 0.8 gradient mean 128571859009536.0\n"
     ]
    }
   ],
   "source": [
    "sigma = lambda x: 4 * nd.sigmoid(x) - 2\n",
    "d_sigma = lambda x : 4 * (1-nd.sigmoid(x))*nd.sigmoid(x)\n",
    "for scale in [0.1, 0.2, 0.4, 0.8]:\n",
    "    print('scale', scale, 'gradient mean',\n",
    "          synthetic_grad(k, sigma, d_sigma, get_weight(scale)))"
   ]
  }
 ],
 "metadata": {
  "celltoolbar": "Slideshow",
  "kernelspec": {
   "display_name": "Python 3",
   "language": "python",
   "name": "python3"
  },
  "language_info": {
   "codemirror_mode": {
    "name": "ipython",
    "version": 3
   },
   "file_extension": ".py",
   "mimetype": "text/x-python",
   "name": "python",
   "nbconvert_exporter": "python",
   "pygments_lexer": "ipython3",
   "version": "3.7.1"
  }
 },
 "nbformat": 4,
 "nbformat_minor": 2
}
