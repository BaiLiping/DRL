{
 "cells": [
  {
   "cell_type": "markdown",
   "metadata": {
    "slideshow": {
     "slide_type": "slide"
    }
   },
   "source": [
    "# Transformer\n"
   ]
  },
  {
   "cell_type": "code",
   "execution_count": 1,
   "metadata": {
    "ExecuteTime": {
     "end_time": "2019-04-25T20:23:58.515089Z",
     "start_time": "2019-04-25T20:23:57.624790Z"
    },
    "attributes": {
     "classes": [],
     "id": "",
     "n": "1"
    }
   },
   "outputs": [],
   "source": [
    "import math\n",
    "import time\n",
    "import d2l\n",
    "from mxnet import nd, autograd\n",
    "from mxnet.gluon import nn, utils as gutils, data as gdata"
   ]
  },
  {
   "cell_type": "markdown",
   "metadata": {
    "slideshow": {
     "slide_type": "slide"
    }
   },
   "source": [
    "## Multi-Head Attention"
   ]
  },
  {
   "cell_type": "code",
   "execution_count": 2,
   "metadata": {
    "ExecuteTime": {
     "end_time": "2019-04-25T20:23:58.524608Z",
     "start_time": "2019-04-25T20:23:58.516914Z"
    },
    "attributes": {
     "classes": [],
     "id": "",
     "n": "2"
    }
   },
   "outputs": [],
   "source": [
    "class MultiHeadAttention(nn.Block):\n",
    "    def __init__(self, units, num_heads, dropout, **kwargs):  # units = d_o\n",
    "        super(MultiHeadAttention, self).__init__(**kwargs)\n",
    "        assert units % num_heads == 0\n",
    "        self.num_heads = num_heads\n",
    "        self.attention = d2l.DotProductAttention(dropout)\n",
    "        self.W_q = nn.Dense(units, use_bias=False, flatten=False)\n",
    "        self.W_k = nn.Dense(units, use_bias=False, flatten=False)\n",
    "        self.W_v = nn.Dense(units, use_bias=False, flatten=False)\n",
    "            \n",
    "    # query, key, and value shape: (batch_size, num_items, dim)\n",
    "    # valid_length shape is either (bathc_size, ) or (batch_size, num_items)\n",
    "    def forward(self, query, key, value, valid_length):\n",
    "        # Project and transpose from (batch_size, num_items, units) to \n",
    "        # (batch_size * num_heads, num_items, p), where units = p * num_heads.\n",
    "        query, key, value = [transpose_qkv(X, self.num_heads) for X in (\n",
    "            self.W_q(query), self.W_k(key), self.W_v(value))]\n",
    "        if valid_length is not None:\n",
    "            # Copy valid_length by num_heads times\n",
    "            if valid_length.ndim == 1: \n",
    "                valid_length = valid_length.tile(self.num_heads)\n",
    "            else:\n",
    "                valid_length = valid_length.tile((self.num_heads, 1))\n",
    "        output = self.attention(query, key, value, valid_length)\n",
    "        # Transpose from (batch_size * num_heads, num_items, p) back to       \n",
    "        # (batch_size, num_items, units)\n",
    "        return transpose_output(output, self.num_heads)"
   ]
  },
  {
   "cell_type": "markdown",
   "metadata": {
    "slideshow": {
     "slide_type": "slide"
    }
   },
   "source": [
    "Definitions of the transpose functions."
   ]
  },
  {
   "cell_type": "code",
   "execution_count": 3,
   "metadata": {
    "ExecuteTime": {
     "end_time": "2019-04-25T20:23:58.531632Z",
     "start_time": "2019-04-25T20:23:58.526234Z"
    },
    "attributes": {
     "classes": [],
     "id": "",
     "n": "3"
    }
   },
   "outputs": [],
   "source": [
    "def transpose_qkv(X, num_heads):\n",
    "    # Shape after reshape: (batch_size, num_items, num_heads, p)\n",
    "    # 0 means copying the shape element, -1 means inferring its value\n",
    "    X = X.reshape((0, 0, num_heads, -1))\n",
    "    # Swap the num_items and the num_heads dimensions\n",
    "    X = X.transpose((0, 2, 1, 3))\n",
    "    # Merge the first two dimensions. Use reverse=True to infer \n",
    "    # shape from right to left\n",
    "    return X.reshape((-1, 0, 0), reverse=True)\n",
    "\n",
    "def transpose_output(X, num_heads):\n",
    "    # A reversed version of transpose_qkv\n",
    "    X = X.reshape((-1, num_heads, 0, 0), reverse=True)\n",
    "    X = X.transpose((0, 2, 1, 3))\n",
    "    return X.reshape((0, 0, -1))"
   ]
  },
  {
   "cell_type": "markdown",
   "metadata": {
    "slideshow": {
     "slide_type": "slide"
    }
   },
   "source": [
    "Example"
   ]
  },
  {
   "cell_type": "code",
   "execution_count": 4,
   "metadata": {
    "ExecuteTime": {
     "end_time": "2019-04-25T20:23:58.545649Z",
     "start_time": "2019-04-25T20:23:58.533244Z"
    },
    "attributes": {
     "classes": [],
     "id": "",
     "n": "4"
    }
   },
   "outputs": [
    {
     "data": {
      "text/plain": [
       "(2, 4, 100)"
      ]
     },
     "execution_count": 4,
     "metadata": {},
     "output_type": "execute_result"
    }
   ],
   "source": [
    "cell = MultiHeadAttention(100, 10, 0.5)\n",
    "cell.initialize()\n",
    "X = nd.ones((2, 4, 5))\n",
    "valid_length = nd.array([2,3])\n",
    "cell(X, X, X, valid_length).shape"
   ]
  },
  {
   "cell_type": "markdown",
   "metadata": {
    "slideshow": {
     "slide_type": "slide"
    }
   },
   "source": [
    "## Position-wise Feed-Forward Networks"
   ]
  },
  {
   "cell_type": "code",
   "execution_count": 5,
   "metadata": {
    "ExecuteTime": {
     "end_time": "2019-04-25T20:23:58.551039Z",
     "start_time": "2019-04-25T20:23:58.546945Z"
    },
    "attributes": {
     "classes": [],
     "id": "",
     "n": "5"
    }
   },
   "outputs": [],
   "source": [
    "class PositionWiseFFN(nn.Block):\n",
    "    def __init__(self, units, hidden_size, **kwargs):\n",
    "        super(PositionWiseFFN, self).__init__(**kwargs)\n",
    "        self.ffn_1 = nn.Dense(hidden_size, flatten=False, activation='relu')\n",
    "        self.ffn_2 = nn.Dense(units, flatten=False)\n",
    "\n",
    "    def forward(self, X):\n",
    "        return self.ffn_2(self.ffn_1(X))"
   ]
  },
  {
   "cell_type": "markdown",
   "metadata": {
    "slideshow": {
     "slide_type": "slide"
    }
   },
   "source": [
    "Example"
   ]
  },
  {
   "cell_type": "code",
   "execution_count": 6,
   "metadata": {
    "ExecuteTime": {
     "end_time": "2019-04-25T20:23:58.560974Z",
     "start_time": "2019-04-25T20:23:58.552535Z"
    },
    "attributes": {
     "classes": [],
     "id": "",
     "n": "6"
    }
   },
   "outputs": [
    {
     "data": {
      "text/plain": [
       "\n",
       "[[ 0.00752072  0.00865059  0.01013744 -0.00906538]\n",
       " [ 0.00752072  0.00865059  0.01013744 -0.00906538]\n",
       " [ 0.00752072  0.00865059  0.01013744 -0.00906538]]\n",
       "<NDArray 3x4 @cpu(0)>"
      ]
     },
     "execution_count": 6,
     "metadata": {},
     "output_type": "execute_result"
    }
   ],
   "source": [
    "ffn = PositionWiseFFN(4, 8)\n",
    "ffn.initialize()\n",
    "ffn(nd.ones((2, 3, 4)))[0]"
   ]
  },
  {
   "cell_type": "markdown",
   "metadata": {
    "slideshow": {
     "slide_type": "slide"
    }
   },
   "source": [
    "## Add and Norm\n",
    "\n",
    "Layer norm"
   ]
  },
  {
   "cell_type": "code",
   "execution_count": 7,
   "metadata": {
    "ExecuteTime": {
     "end_time": "2019-04-25T20:23:58.572855Z",
     "start_time": "2019-04-25T20:23:58.562458Z"
    },
    "attributes": {
     "classes": [],
     "id": "",
     "n": "7"
    }
   },
   "outputs": [
    {
     "name": "stdout",
     "output_type": "stream",
     "text": [
      "layer norm: \n",
      "[[-0.99998  0.99998]\n",
      " [-0.99998  0.99998]]\n",
      "<NDArray 2x2 @cpu(0)> \n",
      "batch norm: \n",
      "[[-0.99998 -0.99998]\n",
      " [ 0.99998  0.99998]]\n",
      "<NDArray 2x2 @cpu(0)>\n"
     ]
    }
   ],
   "source": [
    "layer = nn.LayerNorm()\n",
    "layer.initialize()\n",
    "batch = nn.BatchNorm()\n",
    "batch.initialize()\n",
    "X = nd.array([[1,2],[2,3]])\n",
    "# compute mean and variance from X in the training mode.\n",
    "with autograd.record():  \n",
    "    print('layer norm:',layer(X), '\\nbatch norm:', batch(X))"
   ]
  },
  {
   "cell_type": "markdown",
   "metadata": {
    "slideshow": {
     "slide_type": "slide"
    }
   },
   "source": [
    "The connection block"
   ]
  },
  {
   "cell_type": "code",
   "execution_count": 8,
   "metadata": {
    "ExecuteTime": {
     "end_time": "2019-04-25T20:23:58.579215Z",
     "start_time": "2019-04-25T20:23:58.575103Z"
    },
    "attributes": {
     "classes": [],
     "id": "",
     "n": "8"
    }
   },
   "outputs": [],
   "source": [
    "class AddNorm(nn.Block):\n",
    "    def __init__(self, dropout, **kwargs):\n",
    "        super(AddNorm, self).__init__(**kwargs)\n",
    "        self.dropout = nn.Dropout(dropout)\n",
    "        self.norm = nn.LayerNorm()\n",
    "        \n",
    "    def forward(self, X, Y):\n",
    "        return self.norm(self.dropout(Y) + X)"
   ]
  },
  {
   "cell_type": "markdown",
   "metadata": {
    "slideshow": {
     "slide_type": "slide"
    }
   },
   "source": [
    "Example"
   ]
  },
  {
   "cell_type": "code",
   "execution_count": 9,
   "metadata": {
    "ExecuteTime": {
     "end_time": "2019-04-25T20:23:58.590032Z",
     "start_time": "2019-04-25T20:23:58.581284Z"
    },
    "attributes": {
     "classes": [],
     "id": "",
     "n": "9"
    }
   },
   "outputs": [
    {
     "data": {
      "text/plain": [
       "(2, 3, 4)"
      ]
     },
     "execution_count": 9,
     "metadata": {},
     "output_type": "execute_result"
    }
   ],
   "source": [
    "add_norm = AddNorm(0.5)\n",
    "add_norm.initialize()\n",
    "add_norm(nd.ones((2,3,4)), nd.ones((2,3,4))).shape"
   ]
  },
  {
   "cell_type": "markdown",
   "metadata": {
    "slideshow": {
     "slide_type": "slide"
    }
   },
   "source": [
    "## Positional Encoding"
   ]
  },
  {
   "cell_type": "code",
   "execution_count": 10,
   "metadata": {
    "ExecuteTime": {
     "end_time": "2019-04-25T20:23:58.597660Z",
     "start_time": "2019-04-25T20:23:58.591590Z"
    },
    "attributes": {
     "classes": [],
     "id": "",
     "n": "10"
    }
   },
   "outputs": [],
   "source": [
    "class PositionalEncoding(nn.Block):\n",
    "    def __init__(self, units, dropout, max_len=1000):\n",
    "        super(PositionalEncoding, self).__init__()\n",
    "        self.dropout = nn.Dropout(dropout)\n",
    "        # Create a long enougn P\n",
    "        self.P = nd.zeros((1, max_len, units))\n",
    "        X = nd.arange(0, max_len).reshape((-1,1)) / nd.power(\n",
    "            10000, nd.arange(0, units, 2)/units) \n",
    "        self.P[:, :, 0::2] = nd.sin(X)\n",
    "        self.P[:, :, 1::2] = nd.cos(X)\n",
    "        \n",
    "    def forward(self, X):\n",
    "        X = X + self.P[:, :X.shape[1], :].as_in_context(X.context)\n",
    "        return self.dropout(X)\n"
   ]
  },
  {
   "cell_type": "markdown",
   "metadata": {
    "slideshow": {
     "slide_type": "slide"
    }
   },
   "source": [
    "Visualize the position values"
   ]
  },
  {
   "cell_type": "code",
   "execution_count": 11,
   "metadata": {
    "ExecuteTime": {
     "end_time": "2019-04-25T20:23:58.791848Z",
     "start_time": "2019-04-25T20:23:58.599173Z"
    },
    "attributes": {
     "classes": [],
     "id": "",
     "n": "11"
    }
   },
   "outputs": [
    {
     "data": {
      "image/svg+xml": [
       "<?xml version=\"1.0\" encoding=\"utf-8\" standalone=\"no\"?>\n",
       "<!DOCTYPE svg PUBLIC \"-//W3C//DTD SVG 1.1//EN\"\n",
       "  \"http://www.w3.org/Graphics/SVG/1.1/DTD/svg11.dtd\">\n",
       "<!-- Created with matplotlib (https://matplotlib.org/) -->\n",
       "<svg height=\"197.658125pt\" version=\"1.1\" viewBox=\"0 0 495.582812 197.658125\" width=\"495.582812pt\" xmlns=\"http://www.w3.org/2000/svg\" xmlns:xlink=\"http://www.w3.org/1999/xlink\">\n",
       " <defs>\n",
       "  <style type=\"text/css\">\n",
       "*{stroke-linecap:butt;stroke-linejoin:round;}\n",
       "  </style>\n",
       " </defs>\n",
       " <g id=\"figure_1\">\n",
       "  <g id=\"patch_1\">\n",
       "   <path d=\"M 0 197.658125 \n",
       "L 495.582812 197.658125 \n",
       "L 495.582812 0 \n",
       "L 0 0 \n",
       "z\n",
       "\" style=\"fill:none;\"/>\n",
       "  </g>\n",
       "  <g id=\"axes_1\">\n",
       "   <g id=\"patch_2\">\n",
       "    <path d=\"M 38.482813 173.78 \n",
       "L 484.882812 173.78 \n",
       "L 484.882812 10.7 \n",
       "L 38.482813 10.7 \n",
       "z\n",
       "\" style=\"fill:#ffffff;\"/>\n",
       "   </g>\n",
       "   <g id=\"matplotlib.axis_1\">\n",
       "    <g id=\"xtick_1\">\n",
       "     <g id=\"line2d_1\">\n",
       "      <defs>\n",
       "       <path d=\"M 0 0 \n",
       "L 0 3.5 \n",
       "\" id=\"m6092caa281\" style=\"stroke:#000000;stroke-width:0.8;\"/>\n",
       "      </defs>\n",
       "      <g>\n",
       "       <use style=\"stroke:#000000;stroke-width:0.8;\" x=\"58.773722\" xlink:href=\"#m6092caa281\" y=\"173.78\"/>\n",
       "      </g>\n",
       "     </g>\n",
       "     <g id=\"text_1\">\n",
       "      <!-- 0 -->\n",
       "      <defs>\n",
       "       <path d=\"M 31.78125 66.40625 \n",
       "Q 24.171875 66.40625 20.328125 58.90625 \n",
       "Q 16.5 51.421875 16.5 36.375 \n",
       "Q 16.5 21.390625 20.328125 13.890625 \n",
       "Q 24.171875 6.390625 31.78125 6.390625 \n",
       "Q 39.453125 6.390625 43.28125 13.890625 \n",
       "Q 47.125 21.390625 47.125 36.375 \n",
       "Q 47.125 51.421875 43.28125 58.90625 \n",
       "Q 39.453125 66.40625 31.78125 66.40625 \n",
       "z\n",
       "M 31.78125 74.21875 \n",
       "Q 44.046875 74.21875 50.515625 64.515625 \n",
       "Q 56.984375 54.828125 56.984375 36.375 \n",
       "Q 56.984375 17.96875 50.515625 8.265625 \n",
       "Q 44.046875 -1.421875 31.78125 -1.421875 \n",
       "Q 19.53125 -1.421875 13.0625 8.265625 \n",
       "Q 6.59375 17.96875 6.59375 36.375 \n",
       "Q 6.59375 54.828125 13.0625 64.515625 \n",
       "Q 19.53125 74.21875 31.78125 74.21875 \n",
       "z\n",
       "\" id=\"DejaVuSans-48\"/>\n",
       "      </defs>\n",
       "      <g transform=\"translate(55.592472 188.378438)scale(0.1 -0.1)\">\n",
       "       <use xlink:href=\"#DejaVuSans-48\"/>\n",
       "      </g>\n",
       "     </g>\n",
       "    </g>\n",
       "    <g id=\"xtick_2\">\n",
       "     <g id=\"line2d_2\">\n",
       "      <g>\n",
       "       <use style=\"stroke:#000000;stroke-width:0.8;\" x=\"140.757193\" xlink:href=\"#m6092caa281\" y=\"173.78\"/>\n",
       "      </g>\n",
       "     </g>\n",
       "     <g id=\"text_2\">\n",
       "      <!-- 20 -->\n",
       "      <defs>\n",
       "       <path d=\"M 19.1875 8.296875 \n",
       "L 53.609375 8.296875 \n",
       "L 53.609375 0 \n",
       "L 7.328125 0 \n",
       "L 7.328125 8.296875 \n",
       "Q 12.9375 14.109375 22.625 23.890625 \n",
       "Q 32.328125 33.6875 34.8125 36.53125 \n",
       "Q 39.546875 41.84375 41.421875 45.53125 \n",
       "Q 43.3125 49.21875 43.3125 52.78125 \n",
       "Q 43.3125 58.59375 39.234375 62.25 \n",
       "Q 35.15625 65.921875 28.609375 65.921875 \n",
       "Q 23.96875 65.921875 18.8125 64.3125 \n",
       "Q 13.671875 62.703125 7.8125 59.421875 \n",
       "L 7.8125 69.390625 \n",
       "Q 13.765625 71.78125 18.9375 73 \n",
       "Q 24.125 74.21875 28.421875 74.21875 \n",
       "Q 39.75 74.21875 46.484375 68.546875 \n",
       "Q 53.21875 62.890625 53.21875 53.421875 \n",
       "Q 53.21875 48.921875 51.53125 44.890625 \n",
       "Q 49.859375 40.875 45.40625 35.40625 \n",
       "Q 44.1875 33.984375 37.640625 27.21875 \n",
       "Q 31.109375 20.453125 19.1875 8.296875 \n",
       "z\n",
       "\" id=\"DejaVuSans-50\"/>\n",
       "      </defs>\n",
       "      <g transform=\"translate(134.394693 188.378438)scale(0.1 -0.1)\">\n",
       "       <use xlink:href=\"#DejaVuSans-50\"/>\n",
       "       <use x=\"63.623047\" xlink:href=\"#DejaVuSans-48\"/>\n",
       "      </g>\n",
       "     </g>\n",
       "    </g>\n",
       "    <g id=\"xtick_3\">\n",
       "     <g id=\"line2d_3\">\n",
       "      <g>\n",
       "       <use style=\"stroke:#000000;stroke-width:0.8;\" x=\"222.740664\" xlink:href=\"#m6092caa281\" y=\"173.78\"/>\n",
       "      </g>\n",
       "     </g>\n",
       "     <g id=\"text_3\">\n",
       "      <!-- 40 -->\n",
       "      <defs>\n",
       "       <path d=\"M 37.796875 64.3125 \n",
       "L 12.890625 25.390625 \n",
       "L 37.796875 25.390625 \n",
       "z\n",
       "M 35.203125 72.90625 \n",
       "L 47.609375 72.90625 \n",
       "L 47.609375 25.390625 \n",
       "L 58.015625 25.390625 \n",
       "L 58.015625 17.1875 \n",
       "L 47.609375 17.1875 \n",
       "L 47.609375 0 \n",
       "L 37.796875 0 \n",
       "L 37.796875 17.1875 \n",
       "L 4.890625 17.1875 \n",
       "L 4.890625 26.703125 \n",
       "z\n",
       "\" id=\"DejaVuSans-52\"/>\n",
       "      </defs>\n",
       "      <g transform=\"translate(216.378164 188.378438)scale(0.1 -0.1)\">\n",
       "       <use xlink:href=\"#DejaVuSans-52\"/>\n",
       "       <use x=\"63.623047\" xlink:href=\"#DejaVuSans-48\"/>\n",
       "      </g>\n",
       "     </g>\n",
       "    </g>\n",
       "    <g id=\"xtick_4\">\n",
       "     <g id=\"line2d_4\">\n",
       "      <g>\n",
       "       <use style=\"stroke:#000000;stroke-width:0.8;\" x=\"304.724135\" xlink:href=\"#m6092caa281\" y=\"173.78\"/>\n",
       "      </g>\n",
       "     </g>\n",
       "     <g id=\"text_4\">\n",
       "      <!-- 60 -->\n",
       "      <defs>\n",
       "       <path d=\"M 33.015625 40.375 \n",
       "Q 26.375 40.375 22.484375 35.828125 \n",
       "Q 18.609375 31.296875 18.609375 23.390625 \n",
       "Q 18.609375 15.53125 22.484375 10.953125 \n",
       "Q 26.375 6.390625 33.015625 6.390625 \n",
       "Q 39.65625 6.390625 43.53125 10.953125 \n",
       "Q 47.40625 15.53125 47.40625 23.390625 \n",
       "Q 47.40625 31.296875 43.53125 35.828125 \n",
       "Q 39.65625 40.375 33.015625 40.375 \n",
       "z\n",
       "M 52.59375 71.296875 \n",
       "L 52.59375 62.3125 \n",
       "Q 48.875 64.0625 45.09375 64.984375 \n",
       "Q 41.3125 65.921875 37.59375 65.921875 \n",
       "Q 27.828125 65.921875 22.671875 59.328125 \n",
       "Q 17.53125 52.734375 16.796875 39.40625 \n",
       "Q 19.671875 43.65625 24.015625 45.921875 \n",
       "Q 28.375 48.1875 33.59375 48.1875 \n",
       "Q 44.578125 48.1875 50.953125 41.515625 \n",
       "Q 57.328125 34.859375 57.328125 23.390625 \n",
       "Q 57.328125 12.15625 50.6875 5.359375 \n",
       "Q 44.046875 -1.421875 33.015625 -1.421875 \n",
       "Q 20.359375 -1.421875 13.671875 8.265625 \n",
       "Q 6.984375 17.96875 6.984375 36.375 \n",
       "Q 6.984375 53.65625 15.1875 63.9375 \n",
       "Q 23.390625 74.21875 37.203125 74.21875 \n",
       "Q 40.921875 74.21875 44.703125 73.484375 \n",
       "Q 48.484375 72.75 52.59375 71.296875 \n",
       "z\n",
       "\" id=\"DejaVuSans-54\"/>\n",
       "      </defs>\n",
       "      <g transform=\"translate(298.361635 188.378438)scale(0.1 -0.1)\">\n",
       "       <use xlink:href=\"#DejaVuSans-54\"/>\n",
       "       <use x=\"63.623047\" xlink:href=\"#DejaVuSans-48\"/>\n",
       "      </g>\n",
       "     </g>\n",
       "    </g>\n",
       "    <g id=\"xtick_5\">\n",
       "     <g id=\"line2d_5\">\n",
       "      <g>\n",
       "       <use style=\"stroke:#000000;stroke-width:0.8;\" x=\"386.707606\" xlink:href=\"#m6092caa281\" y=\"173.78\"/>\n",
       "      </g>\n",
       "     </g>\n",
       "     <g id=\"text_5\">\n",
       "      <!-- 80 -->\n",
       "      <defs>\n",
       "       <path d=\"M 31.78125 34.625 \n",
       "Q 24.75 34.625 20.71875 30.859375 \n",
       "Q 16.703125 27.09375 16.703125 20.515625 \n",
       "Q 16.703125 13.921875 20.71875 10.15625 \n",
       "Q 24.75 6.390625 31.78125 6.390625 \n",
       "Q 38.8125 6.390625 42.859375 10.171875 \n",
       "Q 46.921875 13.96875 46.921875 20.515625 \n",
       "Q 46.921875 27.09375 42.890625 30.859375 \n",
       "Q 38.875 34.625 31.78125 34.625 \n",
       "z\n",
       "M 21.921875 38.8125 \n",
       "Q 15.578125 40.375 12.03125 44.71875 \n",
       "Q 8.5 49.078125 8.5 55.328125 \n",
       "Q 8.5 64.0625 14.71875 69.140625 \n",
       "Q 20.953125 74.21875 31.78125 74.21875 \n",
       "Q 42.671875 74.21875 48.875 69.140625 \n",
       "Q 55.078125 64.0625 55.078125 55.328125 \n",
       "Q 55.078125 49.078125 51.53125 44.71875 \n",
       "Q 48 40.375 41.703125 38.8125 \n",
       "Q 48.828125 37.15625 52.796875 32.3125 \n",
       "Q 56.78125 27.484375 56.78125 20.515625 \n",
       "Q 56.78125 9.90625 50.3125 4.234375 \n",
       "Q 43.84375 -1.421875 31.78125 -1.421875 \n",
       "Q 19.734375 -1.421875 13.25 4.234375 \n",
       "Q 6.78125 9.90625 6.78125 20.515625 \n",
       "Q 6.78125 27.484375 10.78125 32.3125 \n",
       "Q 14.796875 37.15625 21.921875 38.8125 \n",
       "z\n",
       "M 18.3125 54.390625 \n",
       "Q 18.3125 48.734375 21.84375 45.5625 \n",
       "Q 25.390625 42.390625 31.78125 42.390625 \n",
       "Q 38.140625 42.390625 41.71875 45.5625 \n",
       "Q 45.3125 48.734375 45.3125 54.390625 \n",
       "Q 45.3125 60.0625 41.71875 63.234375 \n",
       "Q 38.140625 66.40625 31.78125 66.40625 \n",
       "Q 25.390625 66.40625 21.84375 63.234375 \n",
       "Q 18.3125 60.0625 18.3125 54.390625 \n",
       "z\n",
       "\" id=\"DejaVuSans-56\"/>\n",
       "      </defs>\n",
       "      <g transform=\"translate(380.345106 188.378438)scale(0.1 -0.1)\">\n",
       "       <use xlink:href=\"#DejaVuSans-56\"/>\n",
       "       <use x=\"63.623047\" xlink:href=\"#DejaVuSans-48\"/>\n",
       "      </g>\n",
       "     </g>\n",
       "    </g>\n",
       "    <g id=\"xtick_6\">\n",
       "     <g id=\"line2d_6\">\n",
       "      <g>\n",
       "       <use style=\"stroke:#000000;stroke-width:0.8;\" x=\"468.691077\" xlink:href=\"#m6092caa281\" y=\"173.78\"/>\n",
       "      </g>\n",
       "     </g>\n",
       "     <g id=\"text_6\">\n",
       "      <!-- 100 -->\n",
       "      <defs>\n",
       "       <path d=\"M 12.40625 8.296875 \n",
       "L 28.515625 8.296875 \n",
       "L 28.515625 63.921875 \n",
       "L 10.984375 60.40625 \n",
       "L 10.984375 69.390625 \n",
       "L 28.421875 72.90625 \n",
       "L 38.28125 72.90625 \n",
       "L 38.28125 8.296875 \n",
       "L 54.390625 8.296875 \n",
       "L 54.390625 0 \n",
       "L 12.40625 0 \n",
       "z\n",
       "\" id=\"DejaVuSans-49\"/>\n",
       "      </defs>\n",
       "      <g transform=\"translate(459.147327 188.378438)scale(0.1 -0.1)\">\n",
       "       <use xlink:href=\"#DejaVuSans-49\"/>\n",
       "       <use x=\"63.623047\" xlink:href=\"#DejaVuSans-48\"/>\n",
       "       <use x=\"127.246094\" xlink:href=\"#DejaVuSans-48\"/>\n",
       "      </g>\n",
       "     </g>\n",
       "    </g>\n",
       "   </g>\n",
       "   <g id=\"matplotlib.axis_2\">\n",
       "    <g id=\"ytick_1\">\n",
       "     <g id=\"line2d_7\">\n",
       "      <defs>\n",
       "       <path d=\"M 0 0 \n",
       "L -3.5 0 \n",
       "\" id=\"m161844cc80\" style=\"stroke:#000000;stroke-width:0.8;\"/>\n",
       "      </defs>\n",
       "      <g>\n",
       "       <use style=\"stroke:#000000;stroke-width:0.8;\" x=\"38.482813\" xlink:href=\"#m161844cc80\" y=\"166.373724\"/>\n",
       "      </g>\n",
       "     </g>\n",
       "     <g id=\"text_7\">\n",
       "      <!-- −1.0 -->\n",
       "      <defs>\n",
       "       <path d=\"M 10.59375 35.5 \n",
       "L 73.1875 35.5 \n",
       "L 73.1875 27.203125 \n",
       "L 10.59375 27.203125 \n",
       "z\n",
       "\" id=\"DejaVuSans-8722\"/>\n",
       "       <path d=\"M 10.6875 12.40625 \n",
       "L 21 12.40625 \n",
       "L 21 0 \n",
       "L 10.6875 0 \n",
       "z\n",
       "\" id=\"DejaVuSans-46\"/>\n",
       "      </defs>\n",
       "      <g transform=\"translate(7.2 170.172943)scale(0.1 -0.1)\">\n",
       "       <use xlink:href=\"#DejaVuSans-8722\"/>\n",
       "       <use x=\"83.789062\" xlink:href=\"#DejaVuSans-49\"/>\n",
       "       <use x=\"147.412109\" xlink:href=\"#DejaVuSans-46\"/>\n",
       "       <use x=\"179.199219\" xlink:href=\"#DejaVuSans-48\"/>\n",
       "      </g>\n",
       "     </g>\n",
       "    </g>\n",
       "    <g id=\"ytick_2\">\n",
       "     <g id=\"line2d_8\">\n",
       "      <g>\n",
       "       <use style=\"stroke:#000000;stroke-width:0.8;\" x=\"38.482813\" xlink:href=\"#m161844cc80\" y=\"129.308475\"/>\n",
       "      </g>\n",
       "     </g>\n",
       "     <g id=\"text_8\">\n",
       "      <!-- −0.5 -->\n",
       "      <defs>\n",
       "       <path d=\"M 10.796875 72.90625 \n",
       "L 49.515625 72.90625 \n",
       "L 49.515625 64.59375 \n",
       "L 19.828125 64.59375 \n",
       "L 19.828125 46.734375 \n",
       "Q 21.96875 47.46875 24.109375 47.828125 \n",
       "Q 26.265625 48.1875 28.421875 48.1875 \n",
       "Q 40.625 48.1875 47.75 41.5 \n",
       "Q 54.890625 34.8125 54.890625 23.390625 \n",
       "Q 54.890625 11.625 47.5625 5.09375 \n",
       "Q 40.234375 -1.421875 26.90625 -1.421875 \n",
       "Q 22.3125 -1.421875 17.546875 -0.640625 \n",
       "Q 12.796875 0.140625 7.71875 1.703125 \n",
       "L 7.71875 11.625 \n",
       "Q 12.109375 9.234375 16.796875 8.0625 \n",
       "Q 21.484375 6.890625 26.703125 6.890625 \n",
       "Q 35.15625 6.890625 40.078125 11.328125 \n",
       "Q 45.015625 15.765625 45.015625 23.390625 \n",
       "Q 45.015625 31 40.078125 35.4375 \n",
       "Q 35.15625 39.890625 26.703125 39.890625 \n",
       "Q 22.75 39.890625 18.8125 39.015625 \n",
       "Q 14.890625 38.140625 10.796875 36.28125 \n",
       "z\n",
       "\" id=\"DejaVuSans-53\"/>\n",
       "      </defs>\n",
       "      <g transform=\"translate(7.2 133.107693)scale(0.1 -0.1)\">\n",
       "       <use xlink:href=\"#DejaVuSans-8722\"/>\n",
       "       <use x=\"83.789062\" xlink:href=\"#DejaVuSans-48\"/>\n",
       "       <use x=\"147.412109\" xlink:href=\"#DejaVuSans-46\"/>\n",
       "       <use x=\"179.199219\" xlink:href=\"#DejaVuSans-53\"/>\n",
       "      </g>\n",
       "     </g>\n",
       "    </g>\n",
       "    <g id=\"ytick_3\">\n",
       "     <g id=\"line2d_9\">\n",
       "      <g>\n",
       "       <use style=\"stroke:#000000;stroke-width:0.8;\" x=\"38.482813\" xlink:href=\"#m161844cc80\" y=\"92.243226\"/>\n",
       "      </g>\n",
       "     </g>\n",
       "     <g id=\"text_9\">\n",
       "      <!-- 0.0 -->\n",
       "      <g transform=\"translate(15.579688 96.042444)scale(0.1 -0.1)\">\n",
       "       <use xlink:href=\"#DejaVuSans-48\"/>\n",
       "       <use x=\"63.623047\" xlink:href=\"#DejaVuSans-46\"/>\n",
       "       <use x=\"95.410156\" xlink:href=\"#DejaVuSans-48\"/>\n",
       "      </g>\n",
       "     </g>\n",
       "    </g>\n",
       "    <g id=\"ytick_4\">\n",
       "     <g id=\"line2d_10\">\n",
       "      <g>\n",
       "       <use style=\"stroke:#000000;stroke-width:0.8;\" x=\"38.482813\" xlink:href=\"#m161844cc80\" y=\"55.177976\"/>\n",
       "      </g>\n",
       "     </g>\n",
       "     <g id=\"text_10\">\n",
       "      <!-- 0.5 -->\n",
       "      <g transform=\"translate(15.579688 58.977195)scale(0.1 -0.1)\">\n",
       "       <use xlink:href=\"#DejaVuSans-48\"/>\n",
       "       <use x=\"63.623047\" xlink:href=\"#DejaVuSans-46\"/>\n",
       "       <use x=\"95.410156\" xlink:href=\"#DejaVuSans-53\"/>\n",
       "      </g>\n",
       "     </g>\n",
       "    </g>\n",
       "    <g id=\"ytick_5\">\n",
       "     <g id=\"line2d_11\">\n",
       "      <g>\n",
       "       <use style=\"stroke:#000000;stroke-width:0.8;\" x=\"38.482813\" xlink:href=\"#m161844cc80\" y=\"18.112727\"/>\n",
       "      </g>\n",
       "     </g>\n",
       "     <g id=\"text_11\">\n",
       "      <!-- 1.0 -->\n",
       "      <g transform=\"translate(15.579688 21.911946)scale(0.1 -0.1)\">\n",
       "       <use xlink:href=\"#DejaVuSans-49\"/>\n",
       "       <use x=\"63.623047\" xlink:href=\"#DejaVuSans-46\"/>\n",
       "       <use x=\"95.410156\" xlink:href=\"#DejaVuSans-48\"/>\n",
       "      </g>\n",
       "     </g>\n",
       "    </g>\n",
       "   </g>\n",
       "   <g id=\"line2d_12\">\n",
       "    <path clip-path=\"url(#p9d8a66a2d9)\" d=\"M 58.773722 92.243226 \n",
       "L 62.872895 80.543459 \n",
       "L 66.972069 69.13696 \n",
       "L 71.071242 58.309652 \n",
       "L 75.170416 48.332935 \n",
       "L 79.269589 39.456888 \n",
       "L 83.368763 31.903999 \n",
       "L 87.467936 25.863593 \n",
       "L 91.56711 21.487082 \n",
       "L 95.666284 18.884166 \n",
       "L 99.765457 18.120093 \n",
       "L 103.864631 19.214013 \n",
       "L 107.963804 22.138509 \n",
       "L 112.062978 26.820273 \n",
       "L 116.162151 33.14195 \n",
       "L 120.261325 40.945073 \n",
       "L 124.360498 50.034066 \n",
       "L 128.459672 60.181071 \n",
       "L 132.558846 71.131775 \n",
       "L 136.658019 82.611649 \n",
       "L 140.757193 94.332951 \n",
       "L 144.856366 106.001889 \n",
       "L 148.95554 117.325931 \n",
       "L 153.054713 128.02124 \n",
       "L 157.153887 137.819741 \n",
       "L 161.25306 146.475794 \n",
       "L 165.352234 153.772448 \n",
       "L 169.451408 159.526778 \n",
       "L 173.550581 163.594557 \n",
       "L 177.649755 165.873825 \n",
       "L 181.748928 166.307446 \n",
       "L 185.848102 164.88454 \n",
       "L 189.947275 161.640789 \n",
       "L 194.046449 156.6575 \n",
       "L 198.145622 150.059582 \n",
       "L 202.244796 142.012424 \n",
       "L 206.34397 132.7177 \n",
       "L 210.443143 122.408464 \n",
       "L 214.542317 111.343093 \n",
       "L 218.64149 99.798962 \n",
       "L 222.740664 88.065435 \n",
       "L 226.839837 76.43663 \n",
       "L 230.939011 65.204005 \n",
       "L 235.038184 54.649185 \n",
       "L 239.137358 45.036713 \n",
       "L 243.236532 36.607534 \n",
       "L 247.335705 29.572933 \n",
       "L 251.434879 24.109232 \n",
       "L 255.534052 20.353413 \n",
       "L 259.633226 18.399609 \n",
       "L 263.732399 18.29679 \n",
       "L 267.831573 20.047545 \n",
       "L 271.930746 23.607972 \n",
       "L 276.02992 28.888835 \n",
       "L 280.129093 35.757755 \n",
       "L 284.228267 44.042559 \n",
       "L 288.327441 53.535576 \n",
       "L 292.426614 63.998846 \n",
       "L 296.525788 75.170103 \n",
       "L 300.624961 86.769317 \n",
       "L 304.724135 98.505743 \n",
       "L 308.823308 110.085259 \n",
       "L 312.922482 121.217472 \n",
       "L 317.021655 131.623405 \n",
       "L 321.120829 141.042227 \n",
       "L 325.220003 149.237834 \n",
       "L 329.319176 156.0048 \n",
       "L 333.41835 161.173499 \n",
       "L 337.517523 164.61437 \n",
       "L 341.616697 166.241164 \n",
       "L 345.71587 166.013106 \n",
       "L 349.815044 163.935906 \n",
       "L 353.914217 160.061609 \n",
       "L 358.013391 154.487374 \n",
       "L 362.112565 147.35291 \n",
       "L 366.211738 138.837048 \n",
       "L 370.310912 129.153254 \n",
       "L 374.410085 118.544261 \n",
       "L 378.509259 107.275998 \n",
       "L 382.608432 95.63092 \n",
       "L 386.707606 83.900924 \n",
       "L 390.806779 72.380038 \n",
       "L 394.905953 61.35705 \n",
       "L 399.005127 51.108204 \n",
       "L 403.1043 41.890526 \n",
       "L 407.203474 33.935004 \n",
       "L 411.302647 27.441054 \n",
       "L 415.401821 22.571453 \n",
       "L 419.500994 19.448265 \n",
       "L 423.600168 18.149777 \n",
       "L 427.699341 18.708538 \n",
       "L 431.798515 21.110544 \n",
       "L 435.897689 25.295583 \n",
       "L 439.996862 31.158749 \n",
       "L 444.096036 38.553128 \n",
       "L 448.195209 47.293279 \n",
       "L 452.294383 57.160154 \n",
       "L 456.393556 67.906437 \n",
       "L 460.49273 79.262751 \n",
       "L 464.591903 90.944438 \n",
       "\" style=\"fill:none;stroke:#1f77b4;stroke-linecap:square;stroke-width:1.5;\"/>\n",
       "   </g>\n",
       "   <g id=\"line2d_13\">\n",
       "    <path clip-path=\"url(#p9d8a66a2d9)\" d=\"M 58.773722 18.112727 \n",
       "L 62.872895 19.041819 \n",
       "L 66.972069 21.805799 \n",
       "L 71.071242 26.335385 \n",
       "L 75.170416 32.517038 \n",
       "L 79.269589 40.195811 \n",
       "L 83.368763 49.179223 \n",
       "L 87.467936 59.242084 \n",
       "L 91.56711 70.13217 \n",
       "L 95.666284 81.576497 \n",
       "L 99.765457 93.288192 \n",
       "L 103.864631 104.973702 \n",
       "L 107.963804 116.340106 \n",
       "L 112.062978 127.10249 \n",
       "L 116.162151 136.991074 \n",
       "L 120.261325 145.757991 \n",
       "L 124.360498 153.183503 \n",
       "L 128.459672 159.081457 \n",
       "L 132.558846 163.304026 \n",
       "L 136.658019 165.745357 \n",
       "L 140.757193 166.344265 \n",
       "L 144.856366 165.085725 \n",
       "L 148.95554 162.0013 \n",
       "L 153.054713 157.168294 \n",
       "L 157.153887 150.707845 \n",
       "L 161.25306 142.781914 \n",
       "L 165.352234 133.589152 \n",
       "L 169.451408 123.360013 \n",
       "L 173.550581 112.350892 \n",
       "L 177.649755 100.837744 \n",
       "L 181.748928 89.109165 \n",
       "L 185.848102 77.459109 \n",
       "L 189.947275 66.179672 \n",
       "L 194.046449 55.553553 \n",
       "L 198.145622 45.84711 \n",
       "L 202.244796 37.303641 \n",
       "L 206.34397 30.137289 \n",
       "L 210.443143 24.527723 \n",
       "L 214.542317 20.615537 \n",
       "L 218.64149 18.498791 \n",
       "L 222.740664 18.230547 \n",
       "L 226.839837 19.817526 \n",
       "L 230.939011 23.21996 \n",
       "L 235.038184 28.352546 \n",
       "L 239.137358 35.086634 \n",
       "L 243.236532 43.253428 \n",
       "L 247.335705 52.648213 \n",
       "L 251.434879 63.035531 \n",
       "L 255.534052 74.15495 \n",
       "L 259.633226 85.727773 \n",
       "L 263.732399 97.463916 \n",
       "L 267.831573 109.069229 \n",
       "L 271.930746 120.252742 \n",
       "L 276.02992 130.734159 \n",
       "L 280.129093 140.25075 \n",
       "L 284.228267 148.563974 \n",
       "L 288.327441 155.46544 \n",
       "L 292.426614 160.782164 \n",
       "L 296.525788 164.380864 \n",
       "L 300.624961 166.171347 \n",
       "L 304.724135 166.108723 \n",
       "L 308.823308 164.194548 \n",
       "L 312.922482 160.476822 \n",
       "L 317.021655 155.048738 \n",
       "L 321.120829 148.046348 \n",
       "L 325.220003 139.645183 \n",
       "L 329.319176 130.055823 \n",
       "L 333.41835 119.518643 \n",
       "L 337.517523 108.297768 \n",
       "L 341.616697 96.674467 \n",
       "L 345.71587 84.94009 \n",
       "L 349.815044 73.388776 \n",
       "L 353.914217 62.310008 \n",
       "L 358.013391 51.981626 \n",
       "L 362.112565 42.662451 \n",
       "L 366.211738 34.586082 \n",
       "L 370.310912 27.954963 \n",
       "L 374.410085 22.935314 \n",
       "L 378.509259 19.652962 \n",
       "L 382.608432 18.190175 \n",
       "L 386.707606 18.583627 \n",
       "L 390.806779 20.823446 \n",
       "L 394.905953 24.853501 \n",
       "L 399.005127 30.572805 \n",
       "L 403.1043 37.837929 \n",
       "L 407.203474 46.46679 \n",
       "L 411.302647 56.243099 \n",
       "L 415.401821 66.921796 \n",
       "L 419.500994 78.235209 \n",
       "L 423.600168 89.899752 \n",
       "L 427.699341 101.623036 \n",
       "L 431.798515 113.111202 \n",
       "L 435.897689 124.076286 \n",
       "L 439.996862 134.243434 \n",
       "L 444.096036 143.357841 \n",
       "L 448.195209 151.19094 \n",
       "L 452.294383 157.546431 \n",
       "L 456.393556 162.26502 \n",
       "L 460.49273 165.228416 \n",
       "L 464.591903 166.362346 \n",
       "\" style=\"fill:none;stroke:#ff7f0e;stroke-linecap:square;stroke-width:1.5;\"/>\n",
       "   </g>\n",
       "   <g id=\"line2d_14\">\n",
       "    <path clip-path=\"url(#p9d8a66a2d9)\" d=\"M 58.773722 92.243226 \n",
       "L 62.872895 87.569011 \n",
       "L 66.972069 82.913398 \n",
       "L 71.071242 78.294916 \n",
       "L 75.170416 73.731945 \n",
       "L 79.269589 69.242642 \n",
       "L 83.368763 64.844879 \n",
       "L 87.467936 60.556151 \n",
       "L 91.56711 56.393534 \n",
       "L 95.666284 52.373585 \n",
       "L 99.765457 48.512309 \n",
       "L 103.864631 44.825074 \n",
       "L 107.963804 41.326546 \n",
       "L 112.062978 38.030656 \n",
       "L 116.162151 34.950522 \n",
       "L 120.261325 32.098397 \n",
       "L 124.360498 29.485632 \n",
       "L 128.459672 27.122624 \n",
       "L 132.558846 25.018784 \n",
       "L 136.658019 23.182482 \n",
       "L 140.757193 21.62102 \n",
       "L 144.856366 20.340617 \n",
       "L 148.95554 19.34637 \n",
       "L 153.054713 18.642234 \n",
       "L 157.153887 18.231011 \n",
       "L 161.25306 18.11434 \n",
       "L 165.352234 18.292685 \n",
       "L 169.451408 18.76533 \n",
       "L 173.550581 19.530401 \n",
       "L 177.649755 20.584851 \n",
       "L 181.748928 21.92448 \n",
       "L 185.848102 23.543966 \n",
       "L 189.947275 25.436852 \n",
       "L 194.046449 27.595613 \n",
       "L 198.145622 30.011661 \n",
       "L 202.244796 32.675363 \n",
       "L 206.34397 35.57614 \n",
       "L 210.443143 38.702439 \n",
       "L 214.542317 42.041808 \n",
       "L 218.64149 45.580973 \n",
       "L 222.740664 49.305845 \n",
       "L 226.839837 53.201585 \n",
       "L 230.939011 57.252713 \n",
       "L 235.038184 61.443094 \n",
       "L 239.137358 65.756037 \n",
       "L 243.236532 70.174409 \n",
       "L 247.335705 74.680609 \n",
       "L 251.434879 79.256688 \n",
       "L 255.534052 83.884466 \n",
       "L 259.633226 88.54551 \n",
       "L 263.732399 93.221252 \n",
       "L 267.831573 97.89312 \n",
       "L 271.930746 102.542503 \n",
       "L 276.02992 107.150879 \n",
       "L 280.129093 111.699944 \n",
       "L 284.228267 116.171577 \n",
       "L 288.327441 120.547979 \n",
       "L 292.426614 124.81172 \n",
       "L 296.525788 128.945864 \n",
       "L 300.624961 132.933938 \n",
       "L 304.724135 136.76006 \n",
       "L 308.823308 140.40903 \n",
       "L 312.922482 143.866312 \n",
       "L 317.021655 147.118132 \n",
       "L 321.120829 150.151566 \n",
       "L 325.220003 152.954562 \n",
       "L 329.319176 155.515922 \n",
       "L 333.41835 157.825474 \n",
       "L 337.517523 159.874038 \n",
       "L 341.616697 161.653434 \n",
       "L 345.71587 163.156598 \n",
       "L 349.815044 164.37755 \n",
       "L 353.914217 165.311418 \n",
       "L 358.013391 165.954499 \n",
       "L 362.112565 166.304225 \n",
       "L 366.211738 166.359209 \n",
       "L 370.310912 166.119226 \n",
       "L 374.410085 165.585234 \n",
       "L 378.509259 164.759364 \n",
       "L 382.608432 163.644898 \n",
       "L 386.707606 162.246263 \n",
       "L 390.806779 160.569041 \n",
       "L 394.905953 158.619903 \n",
       "L 399.005127 156.406585 \n",
       "L 403.1043 153.937931 \n",
       "L 407.203474 151.223752 \n",
       "L 411.302647 148.274817 \n",
       "L 415.401821 145.102915 \n",
       "L 419.500994 141.720646 \n",
       "L 423.600168 138.141445 \n",
       "L 427.699341 134.379604 \n",
       "L 431.798515 130.450071 \n",
       "L 435.897689 126.368456 \n",
       "L 439.996862 122.151063 \n",
       "L 444.096036 117.814644 \n",
       "L 448.195209 113.376422 \n",
       "L 452.294383 108.85413 \n",
       "L 456.393556 104.265731 \n",
       "L 460.49273 99.629451 \n",
       "L 464.591903 94.96381 \n",
       "\" style=\"fill:none;stroke:#2ca02c;stroke-linecap:square;stroke-width:1.5;\"/>\n",
       "   </g>\n",
       "   <g id=\"line2d_15\">\n",
       "    <path clip-path=\"url(#p9d8a66a2d9)\" d=\"M 58.773722 18.112727 \n",
       "L 62.872895 18.26024 \n",
       "L 66.972069 18.70218 \n",
       "L 71.071242 19.436799 \n",
       "L 75.170416 20.461172 \n",
       "L 79.269589 21.771219 \n",
       "L 83.368763 23.361724 \n",
       "L 87.467936 25.226362 \n",
       "L 91.56711 27.357707 \n",
       "L 95.666284 29.747283 \n",
       "L 99.765457 32.385578 \n",
       "L 103.864631 35.262089 \n",
       "L 107.963804 38.365376 \n",
       "L 112.062978 41.683081 \n",
       "L 116.162151 45.202001 \n",
       "L 120.261325 48.908133 \n",
       "L 124.360498 52.786725 \n",
       "L 128.459672 56.822354 \n",
       "L 132.558846 60.998942 \n",
       "L 136.658019 65.299871 \n",
       "L 140.757193 69.708039 \n",
       "L 144.856366 74.205881 \n",
       "L 148.95554 78.775509 \n",
       "L 153.054713 83.398742 \n",
       "L 157.153887 88.057166 \n",
       "L 161.25306 92.73225 \n",
       "L 165.352234 97.405396 \n",
       "L 169.451408 102.057989 \n",
       "L 173.550581 106.67153 \n",
       "L 177.649755 111.227642 \n",
       "L 181.748928 115.7082 \n",
       "L 185.848102 120.095383 \n",
       "L 189.947275 124.371704 \n",
       "L 194.046449 128.520177 \n",
       "L 198.145622 132.524279 \n",
       "L 202.244796 136.368058 \n",
       "L 206.34397 140.03624 \n",
       "L 210.443143 143.514222 \n",
       "L 214.542317 146.788148 \n",
       "L 218.64149 149.845005 \n",
       "L 222.740664 152.672625 \n",
       "L 226.839837 155.25974 \n",
       "L 230.939011 157.596074 \n",
       "L 235.038184 159.672319 \n",
       "L 239.137358 161.480206 \n",
       "L 243.236532 163.012554 \n",
       "L 247.335705 164.263261 \n",
       "L 251.434879 165.227338 \n",
       "L 255.534052 165.90096 \n",
       "L 259.633226 166.281443 \n",
       "L 263.732399 166.367273 \n",
       "L 267.831573 166.158104 \n",
       "L 271.930746 165.654777 \n",
       "L 276.02992 164.859289 \n",
       "L 280.129093 163.774807 \n",
       "L 284.228267 162.405644 \n",
       "L 288.327441 160.757252 \n",
       "L 292.426614 158.836198 \n",
       "L 296.525788 156.650112 \n",
       "L 300.624961 154.207703 \n",
       "L 304.724135 151.518701 \n",
       "L 308.823308 148.59379 \n",
       "L 312.922482 145.444612 \n",
       "L 317.021655 142.083725 \n",
       "L 321.120829 138.524482 \n",
       "L 325.220003 134.781022 \n",
       "L 329.319176 130.868301 \n",
       "L 333.41835 126.801865 \n",
       "L 337.517523 122.597862 \n",
       "L 341.616697 118.273086 \n",
       "L 345.71587 113.844719 \n",
       "L 349.815044 109.330349 \n",
       "L 353.914217 104.748011 \n",
       "L 358.013391 100.115907 \n",
       "L 362.112565 95.452437 \n",
       "L 366.211738 90.77623 \n",
       "L 370.310912 86.105861 \n",
       "L 374.410085 81.459882 \n",
       "L 378.509259 76.856854 \n",
       "L 382.608432 72.315059 \n",
       "L 386.707606 67.85254 \n",
       "L 390.806779 63.487122 \n",
       "L 394.905953 59.236146 \n",
       "L 399.005127 55.116497 \n",
       "L 403.1043 51.144639 \n",
       "L 407.203474 47.336337 \n",
       "L 411.302647 43.706729 \n",
       "L 415.401821 40.270312 \n",
       "L 419.500994 37.04073 \n",
       "L 423.600168 34.03082 \n",
       "L 427.699341 31.252599 \n",
       "L 431.798515 28.717109 \n",
       "L 435.897689 26.434417 \n",
       "L 439.996862 24.413646 \n",
       "L 444.096036 22.662815 \n",
       "L 448.195209 21.188889 \n",
       "L 452.294383 19.997753 \n",
       "L 456.393556 19.09413 \n",
       "L 460.49273 18.481621 \n",
       "L 464.591903 18.162665 \n",
       "\" style=\"fill:none;stroke:#d62728;stroke-linecap:square;stroke-width:1.5;\"/>\n",
       "   </g>\n",
       "   <g id=\"patch_3\">\n",
       "    <path d=\"M 38.482813 173.78 \n",
       "L 38.482813 10.7 \n",
       "\" style=\"fill:none;stroke:#000000;stroke-linecap:square;stroke-linejoin:miter;stroke-width:0.8;\"/>\n",
       "   </g>\n",
       "   <g id=\"patch_4\">\n",
       "    <path d=\"M 484.882812 173.78 \n",
       "L 484.882812 10.7 \n",
       "\" style=\"fill:none;stroke:#000000;stroke-linecap:square;stroke-linejoin:miter;stroke-width:0.8;\"/>\n",
       "   </g>\n",
       "   <g id=\"patch_5\">\n",
       "    <path d=\"M 38.482813 173.78 \n",
       "L 484.882812 173.78 \n",
       "\" style=\"fill:none;stroke:#000000;stroke-linecap:square;stroke-linejoin:miter;stroke-width:0.8;\"/>\n",
       "   </g>\n",
       "   <g id=\"patch_6\">\n",
       "    <path d=\"M 38.482813 10.7 \n",
       "L 484.882812 10.7 \n",
       "\" style=\"fill:none;stroke:#000000;stroke-linecap:square;stroke-linejoin:miter;stroke-width:0.8;\"/>\n",
       "   </g>\n",
       "   <g id=\"legend_1\">\n",
       "    <g id=\"patch_7\">\n",
       "     <path d=\"M 45.482813 168.78 \n",
       "L 105.890625 168.78 \n",
       "Q 107.890625 168.78 107.890625 166.78 \n",
       "L 107.890625 109.0675 \n",
       "Q 107.890625 107.0675 105.890625 107.0675 \n",
       "L 45.482813 107.0675 \n",
       "Q 43.482813 107.0675 43.482813 109.0675 \n",
       "L 43.482813 166.78 \n",
       "Q 43.482813 168.78 45.482813 168.78 \n",
       "z\n",
       "\" style=\"fill:#ffffff;opacity:0.8;stroke:#cccccc;stroke-linejoin:miter;\"/>\n",
       "    </g>\n",
       "    <g id=\"line2d_16\">\n",
       "     <path d=\"M 47.482813 115.165938 \n",
       "L 67.482813 115.165938 \n",
       "\" style=\"fill:none;stroke:#1f77b4;stroke-linecap:square;stroke-width:1.5;\"/>\n",
       "    </g>\n",
       "    <g id=\"line2d_17\"/>\n",
       "    <g id=\"text_12\">\n",
       "     <!-- dim 4 -->\n",
       "     <defs>\n",
       "      <path d=\"M 45.40625 46.390625 \n",
       "L 45.40625 75.984375 \n",
       "L 54.390625 75.984375 \n",
       "L 54.390625 0 \n",
       "L 45.40625 0 \n",
       "L 45.40625 8.203125 \n",
       "Q 42.578125 3.328125 38.25 0.953125 \n",
       "Q 33.9375 -1.421875 27.875 -1.421875 \n",
       "Q 17.96875 -1.421875 11.734375 6.484375 \n",
       "Q 5.515625 14.40625 5.515625 27.296875 \n",
       "Q 5.515625 40.1875 11.734375 48.09375 \n",
       "Q 17.96875 56 27.875 56 \n",
       "Q 33.9375 56 38.25 53.625 \n",
       "Q 42.578125 51.265625 45.40625 46.390625 \n",
       "z\n",
       "M 14.796875 27.296875 \n",
       "Q 14.796875 17.390625 18.875 11.75 \n",
       "Q 22.953125 6.109375 30.078125 6.109375 \n",
       "Q 37.203125 6.109375 41.296875 11.75 \n",
       "Q 45.40625 17.390625 45.40625 27.296875 \n",
       "Q 45.40625 37.203125 41.296875 42.84375 \n",
       "Q 37.203125 48.484375 30.078125 48.484375 \n",
       "Q 22.953125 48.484375 18.875 42.84375 \n",
       "Q 14.796875 37.203125 14.796875 27.296875 \n",
       "z\n",
       "\" id=\"DejaVuSans-100\"/>\n",
       "      <path d=\"M 9.421875 54.6875 \n",
       "L 18.40625 54.6875 \n",
       "L 18.40625 0 \n",
       "L 9.421875 0 \n",
       "z\n",
       "M 9.421875 75.984375 \n",
       "L 18.40625 75.984375 \n",
       "L 18.40625 64.59375 \n",
       "L 9.421875 64.59375 \n",
       "z\n",
       "\" id=\"DejaVuSans-105\"/>\n",
       "      <path d=\"M 52 44.1875 \n",
       "Q 55.375 50.25 60.0625 53.125 \n",
       "Q 64.75 56 71.09375 56 \n",
       "Q 79.640625 56 84.28125 50.015625 \n",
       "Q 88.921875 44.046875 88.921875 33.015625 \n",
       "L 88.921875 0 \n",
       "L 79.890625 0 \n",
       "L 79.890625 32.71875 \n",
       "Q 79.890625 40.578125 77.09375 44.375 \n",
       "Q 74.3125 48.1875 68.609375 48.1875 \n",
       "Q 61.625 48.1875 57.5625 43.546875 \n",
       "Q 53.515625 38.921875 53.515625 30.90625 \n",
       "L 53.515625 0 \n",
       "L 44.484375 0 \n",
       "L 44.484375 32.71875 \n",
       "Q 44.484375 40.625 41.703125 44.40625 \n",
       "Q 38.921875 48.1875 33.109375 48.1875 \n",
       "Q 26.21875 48.1875 22.15625 43.53125 \n",
       "Q 18.109375 38.875 18.109375 30.90625 \n",
       "L 18.109375 0 \n",
       "L 9.078125 0 \n",
       "L 9.078125 54.6875 \n",
       "L 18.109375 54.6875 \n",
       "L 18.109375 46.1875 \n",
       "Q 21.1875 51.21875 25.484375 53.609375 \n",
       "Q 29.78125 56 35.6875 56 \n",
       "Q 41.65625 56 45.828125 52.96875 \n",
       "Q 50 49.953125 52 44.1875 \n",
       "z\n",
       "\" id=\"DejaVuSans-109\"/>\n",
       "      <path id=\"DejaVuSans-32\"/>\n",
       "     </defs>\n",
       "     <g transform=\"translate(75.482813 118.665938)scale(0.1 -0.1)\">\n",
       "      <use xlink:href=\"#DejaVuSans-100\"/>\n",
       "      <use x=\"63.476562\" xlink:href=\"#DejaVuSans-105\"/>\n",
       "      <use x=\"91.259766\" xlink:href=\"#DejaVuSans-109\"/>\n",
       "      <use x=\"188.671875\" xlink:href=\"#DejaVuSans-32\"/>\n",
       "      <use x=\"220.458984\" xlink:href=\"#DejaVuSans-52\"/>\n",
       "     </g>\n",
       "    </g>\n",
       "    <g id=\"line2d_18\">\n",
       "     <path d=\"M 47.482813 129.844063 \n",
       "L 67.482813 129.844063 \n",
       "\" style=\"fill:none;stroke:#ff7f0e;stroke-linecap:square;stroke-width:1.5;\"/>\n",
       "    </g>\n",
       "    <g id=\"line2d_19\"/>\n",
       "    <g id=\"text_13\">\n",
       "     <!-- dim 5 -->\n",
       "     <g transform=\"translate(75.482813 133.344063)scale(0.1 -0.1)\">\n",
       "      <use xlink:href=\"#DejaVuSans-100\"/>\n",
       "      <use x=\"63.476562\" xlink:href=\"#DejaVuSans-105\"/>\n",
       "      <use x=\"91.259766\" xlink:href=\"#DejaVuSans-109\"/>\n",
       "      <use x=\"188.671875\" xlink:href=\"#DejaVuSans-32\"/>\n",
       "      <use x=\"220.458984\" xlink:href=\"#DejaVuSans-53\"/>\n",
       "     </g>\n",
       "    </g>\n",
       "    <g id=\"line2d_20\">\n",
       "     <path d=\"M 47.482813 144.522188 \n",
       "L 67.482813 144.522188 \n",
       "\" style=\"fill:none;stroke:#2ca02c;stroke-linecap:square;stroke-width:1.5;\"/>\n",
       "    </g>\n",
       "    <g id=\"line2d_21\"/>\n",
       "    <g id=\"text_14\">\n",
       "     <!-- dim 6 -->\n",
       "     <g transform=\"translate(75.482813 148.022188)scale(0.1 -0.1)\">\n",
       "      <use xlink:href=\"#DejaVuSans-100\"/>\n",
       "      <use x=\"63.476562\" xlink:href=\"#DejaVuSans-105\"/>\n",
       "      <use x=\"91.259766\" xlink:href=\"#DejaVuSans-109\"/>\n",
       "      <use x=\"188.671875\" xlink:href=\"#DejaVuSans-32\"/>\n",
       "      <use x=\"220.458984\" xlink:href=\"#DejaVuSans-54\"/>\n",
       "     </g>\n",
       "    </g>\n",
       "    <g id=\"line2d_22\">\n",
       "     <path d=\"M 47.482813 159.200313 \n",
       "L 67.482813 159.200313 \n",
       "\" style=\"fill:none;stroke:#d62728;stroke-linecap:square;stroke-width:1.5;\"/>\n",
       "    </g>\n",
       "    <g id=\"line2d_23\"/>\n",
       "    <g id=\"text_15\">\n",
       "     <!-- dim 7 -->\n",
       "     <defs>\n",
       "      <path d=\"M 8.203125 72.90625 \n",
       "L 55.078125 72.90625 \n",
       "L 55.078125 68.703125 \n",
       "L 28.609375 0 \n",
       "L 18.3125 0 \n",
       "L 43.21875 64.59375 \n",
       "L 8.203125 64.59375 \n",
       "z\n",
       "\" id=\"DejaVuSans-55\"/>\n",
       "     </defs>\n",
       "     <g transform=\"translate(75.482813 162.700313)scale(0.1 -0.1)\">\n",
       "      <use xlink:href=\"#DejaVuSans-100\"/>\n",
       "      <use x=\"63.476562\" xlink:href=\"#DejaVuSans-105\"/>\n",
       "      <use x=\"91.259766\" xlink:href=\"#DejaVuSans-109\"/>\n",
       "      <use x=\"188.671875\" xlink:href=\"#DejaVuSans-32\"/>\n",
       "      <use x=\"220.458984\" xlink:href=\"#DejaVuSans-55\"/>\n",
       "     </g>\n",
       "    </g>\n",
       "   </g>\n",
       "  </g>\n",
       " </g>\n",
       " <defs>\n",
       "  <clipPath id=\"p9d8a66a2d9\">\n",
       "   <rect height=\"163.08\" width=\"446.4\" x=\"38.482813\" y=\"10.7\"/>\n",
       "  </clipPath>\n",
       " </defs>\n",
       "</svg>\n"
      ],
      "text/plain": [
       "<Figure size 576x216 with 1 Axes>"
      ]
     },
     "metadata": {
      "needs_background": "light"
     },
     "output_type": "display_data"
    }
   ],
   "source": [
    "d2l.set_figsize((8, 3))\n",
    "pe = PositionalEncoding(20, 0)\n",
    "pe.initialize()\n",
    "Y = pe(nd.zeros((1, 100, 20 )))\n",
    "d2l.plt.plot(nd.arange(100).asnumpy(), Y[0, :,4:8].asnumpy())\n",
    "d2l.plt.legend([\"dim %d\"%p for p in [4,5,6,7, 20]]);"
   ]
  },
  {
   "cell_type": "markdown",
   "metadata": {
    "slideshow": {
     "slide_type": "slide"
    }
   },
   "source": [
    "## Encoder\n",
    "\n",
    "The encoder block"
   ]
  },
  {
   "cell_type": "code",
   "execution_count": 12,
   "metadata": {
    "ExecuteTime": {
     "end_time": "2019-04-25T20:23:58.798430Z",
     "start_time": "2019-04-25T20:23:58.793405Z"
    },
    "attributes": {
     "classes": [],
     "id": "",
     "n": "12"
    }
   },
   "outputs": [],
   "source": [
    "class EncoderBlock(nn.Block):\n",
    "    def __init__(self, units, hidden_size, num_heads, dropout, **kwargs):\n",
    "        super(EncoderBlock, self).__init__(**kwargs)\n",
    "        self.attention = MultiHeadAttention(units, num_heads, dropout)\n",
    "        self.add_1 = AddNorm(dropout)\n",
    "        self.ffn = PositionWiseFFN(units, hidden_size)\n",
    "        self.add_2 = AddNorm(dropout)        \n",
    "        \n",
    "    def forward(self, X, valid_length):\n",
    "        Y = self.add_1(X, self.attention(X, X, X, valid_length))\n",
    "        return self.add_2(Y, self.ffn(Y))"
   ]
  },
  {
   "cell_type": "markdown",
   "metadata": {
    "slideshow": {
     "slide_type": "slide"
    }
   },
   "source": [
    "Example"
   ]
  },
  {
   "cell_type": "code",
   "execution_count": 13,
   "metadata": {
    "ExecuteTime": {
     "end_time": "2019-04-25T20:23:58.814750Z",
     "start_time": "2019-04-25T20:23:58.799904Z"
    },
    "attributes": {
     "classes": [],
     "id": "",
     "n": "13"
    }
   },
   "outputs": [
    {
     "data": {
      "text/plain": [
       "(2, 100, 24)"
      ]
     },
     "execution_count": 13,
     "metadata": {},
     "output_type": "execute_result"
    }
   ],
   "source": [
    "encoder_blk = EncoderBlock(24, 48, 8, 0.5)\n",
    "encoder_blk.initialize()\n",
    "encoder_blk(nd.ones((2, 100, 24)), valid_length).shape "
   ]
  },
  {
   "cell_type": "markdown",
   "metadata": {
    "slideshow": {
     "slide_type": "slide"
    }
   },
   "source": [
    "The encoder stacks $n$ blocks. "
   ]
  },
  {
   "cell_type": "code",
   "execution_count": 14,
   "metadata": {
    "ExecuteTime": {
     "end_time": "2019-04-25T20:23:58.822086Z",
     "start_time": "2019-04-25T20:23:58.816238Z"
    },
    "attributes": {
     "classes": [],
     "id": "",
     "n": "14"
    }
   },
   "outputs": [],
   "source": [
    "class TransformerEncoder(d2l.Encoder):\n",
    "    def __init__(self, vocab_size, units, hidden_size, \n",
    "                 num_heads, num_layers, dropout, **kwargs):\n",
    "        super(TransformerEncoder, self).__init__(**kwargs)\n",
    "        self.units = units\n",
    "        self.embed = nn.Embedding(vocab_size, units) \n",
    "        self.pos_encoding = PositionalEncoding(units, dropout)        \n",
    "        self.blks = nn.Sequential()\n",
    "        for i in range(num_layers):\n",
    "            self.blks.add(\n",
    "                EncoderBlock(units, hidden_size, num_heads, dropout))\n",
    "            \n",
    "    def forward(self, X, valid_length, *args):\n",
    "        X = self.pos_encoding(self.embed(X) * math.sqrt(self.units))\n",
    "        for blk in self.blks:\n",
    "            X = blk(X, valid_length)\n",
    "        return X"
   ]
  },
  {
   "cell_type": "markdown",
   "metadata": {
    "slideshow": {
     "slide_type": "slide"
    }
   },
   "source": [
    "Example"
   ]
  },
  {
   "cell_type": "code",
   "execution_count": 15,
   "metadata": {
    "ExecuteTime": {
     "end_time": "2019-04-25T20:23:58.850836Z",
     "start_time": "2019-04-25T20:23:58.823579Z"
    },
    "attributes": {
     "classes": [],
     "id": "",
     "n": "15"
    }
   },
   "outputs": [
    {
     "data": {
      "text/plain": [
       "(2, 100, 24)"
      ]
     },
     "execution_count": 15,
     "metadata": {},
     "output_type": "execute_result"
    }
   ],
   "source": [
    "encoder = TransformerEncoder(200, 24, 48, 8, 2, 0.5)\n",
    "encoder.initialize()\n",
    "encoder(nd.ones((2, 100)), valid_length).shape"
   ]
  },
  {
   "cell_type": "markdown",
   "metadata": {
    "slideshow": {
     "slide_type": "slide"
    }
   },
   "source": [
    "## Decoder"
   ]
  },
  {
   "cell_type": "code",
   "execution_count": 16,
   "metadata": {
    "ExecuteTime": {
     "end_time": "2019-04-25T20:23:58.861494Z",
     "start_time": "2019-04-25T20:23:58.852340Z"
    },
    "attributes": {
     "classes": [],
     "id": "",
     "n": "16"
    }
   },
   "outputs": [],
   "source": [
    "class DecoderBlock(nn.Block):\n",
    "    def __init__(self, units, hidden_size, num_heads, dropout, i, **kwargs):\n",
    "        super(DecoderBlock, self).__init__(**kwargs)\n",
    "        self.i = i  # i means it's the i-th block in the decoder\n",
    "        self.attention_1 = MultiHeadAttention(units, num_heads, dropout)\n",
    "        self.add_1 = AddNorm(dropout)\n",
    "        self.attention_2 = MultiHeadAttention(units, num_heads, dropout)\n",
    "        self.add_2 = AddNorm(dropout)\n",
    "        self.ffn = PositionWiseFFN(units, hidden_size)\n",
    "        self.add_3 = AddNorm(dropout)\n",
    "\n",
    "    def forward(self, X, state):  \n",
    "        enc_outputs, enc_valid_lengh = state[0], state[1]\n",
    "        if state[2][self.i] is None:  # contains the past queries for this block \n",
    "            key_values = X  \n",
    "        else:\n",
    "            key_values = nd.concat(state[2][self.i], X, dim=1)\n",
    "        state[2][self.i] = key_values\n",
    "        if autograd.is_training():\n",
    "            batch_size, seq_len, _ = X.shape\n",
    "            # shape: (batch_size, seq_len), the values in the j-th column are j+1 \n",
    "            valid_length = nd.arange(\n",
    "                1, seq_len+1, ctx=X.context).tile((batch_size, 1))\n",
    "        else:\n",
    "            valid_length = None\n",
    "            \n",
    "        X2 = self.attention_1(X, key_values, key_values, valid_length)\n",
    "        Y = self.add_1(X, X2)\n",
    "        Y2 = self.attention_2(Y, enc_outputs, enc_outputs, enc_valid_lengh)\n",
    "        Z = self.add_2(Y, Y2)\n",
    "        return self.add_3(Z, self.ffn(Z)), state"
   ]
  },
  {
   "cell_type": "markdown",
   "metadata": {
    "slideshow": {
     "slide_type": "slide"
    }
   },
   "source": [
    "Example:"
   ]
  },
  {
   "cell_type": "code",
   "execution_count": 17,
   "metadata": {
    "ExecuteTime": {
     "end_time": "2019-04-25T20:23:58.885331Z",
     "start_time": "2019-04-25T20:23:58.862997Z"
    },
    "attributes": {
     "classes": [],
     "id": "",
     "n": "17"
    }
   },
   "outputs": [
    {
     "data": {
      "text/plain": [
       "(2, 100, 24)"
      ]
     },
     "execution_count": 17,
     "metadata": {},
     "output_type": "execute_result"
    }
   ],
   "source": [
    "decoder_blk = DecoderBlock(24, 48, 8, 0.5, 0)\n",
    "decoder_blk.initialize()\n",
    "X = nd.ones((2, 100, 24))\n",
    "state = [encoder_blk(X, valid_length), valid_length, [None]]\n",
    "decoder_blk(X, state)[0].shape"
   ]
  },
  {
   "cell_type": "markdown",
   "metadata": {
    "slideshow": {
     "slide_type": "slide"
    }
   },
   "source": [
    "The decoder:"
   ]
  },
  {
   "cell_type": "code",
   "execution_count": 18,
   "metadata": {
    "ExecuteTime": {
     "end_time": "2019-04-25T20:23:58.894170Z",
     "start_time": "2019-04-25T20:23:58.886847Z"
    },
    "attributes": {
     "classes": [],
     "id": "",
     "n": "18"
    }
   },
   "outputs": [],
   "source": [
    "class TransformerDecoder(d2l.Decoder):\n",
    "    def __init__(self, vocab_size, units, hidden_size, \n",
    "                 num_heads, num_layers, dropout, **kwargs):\n",
    "        super(TransformerDecoder, self).__init__(**kwargs)\n",
    "        self.units = units\n",
    "        self.num_layers = num_layers\n",
    "        self.embed = nn.Embedding(vocab_size, units) \n",
    "        self.pos_encoding = PositionalEncoding(units, dropout)        \n",
    "        self.blks = nn.Sequential()\n",
    "        for i in range(num_layers):\n",
    "            self.blks.add(\n",
    "                DecoderBlock(units, hidden_size, num_heads, dropout, i))\n",
    "        self.dense = nn.Dense(vocab_size, flatten=False)\n",
    "    \n",
    "    def init_state(self, enc_outputs, env_valid_lengh, *args):\n",
    "        return [enc_outputs, env_valid_lengh, [None]*self.num_layers]    \n",
    "    \n",
    "    def forward(self, X, state):\n",
    "        X = self.pos_encoding(self.embed(X) * math.sqrt(self.units))\n",
    "        for blk in self.blks:\n",
    "            X, state = blk(X, state)\n",
    "        return self.dense(X), state"
   ]
  },
  {
   "cell_type": "markdown",
   "metadata": {
    "slideshow": {
     "slide_type": "slide"
    }
   },
   "source": [
    "## Training"
   ]
  },
  {
   "cell_type": "code",
   "execution_count": 19,
   "metadata": {
    "ExecuteTime": {
     "end_time": "2019-04-25T20:26:16.905743Z",
     "start_time": "2019-04-25T20:23:58.895637Z"
    },
    "attributes": {
     "classes": [],
     "id": "",
     "n": "31"
    }
   },
   "outputs": [
    {
     "name": "stdout",
     "output_type": "stream",
     "text": [
      "epoch 50, loss 0.035, time 33.2 sec\n",
      "epoch 100, loss 0.031, time 33.1 sec\n",
      "epoch 150, loss 0.030, time 33.1 sec\n",
      "epoch 200, loss 0.028, time 33.2 sec\n"
     ]
    }
   ],
   "source": [
    "embed_size, units, num_layers, dropout = 32, 32, 2, 0.0 \n",
    "batch_size, num_examples, max_len = 64, 1024, 10\n",
    "lr, num_epochs, ctx = 0.005, 200, d2l.try_gpu()\n",
    "num_hiddens, num_heads = 64, 4\n",
    "\n",
    "src_vocab, tgt_vocab, train_iter = d2l.load_data_nmt(\n",
    "    batch_size, max_len, num_examples)\n",
    "\n",
    "encoder = TransformerEncoder(\n",
    "    len(src_vocab), units, num_hiddens, num_heads, num_layers, dropout)\n",
    "decoder = TransformerDecoder(\n",
    "    len(src_vocab), units, num_hiddens, num_heads, num_layers, dropout)\n",
    "model = d2l.EncoderDecoder(encoder, decoder)\n",
    "d2l.train_ch7(model, train_iter, lr, num_epochs, ctx)"
   ]
  },
  {
   "cell_type": "markdown",
   "metadata": {
    "slideshow": {
     "slide_type": "slide"
    }
   },
   "source": [
    "Predict"
   ]
  },
  {
   "cell_type": "code",
   "execution_count": 20,
   "metadata": {
    "ExecuteTime": {
     "end_time": "2019-04-25T20:26:17.066917Z",
     "start_time": "2019-04-25T20:26:16.907238Z"
    },
    "attributes": {
     "classes": [],
     "id": "",
     "n": "28"
    }
   },
   "outputs": [
    {
     "name": "stdout",
     "output_type": "stream",
     "text": [
      "Go . => va !\n",
      "Wow ! => <unk> le <unk> à <unk> <unk> <unk> <unk> <unk> <unk>\n",
      "I'm OK . => je vais bien .\n",
      "I won ! => je l'ai emporté !\n"
     ]
    }
   ],
   "source": [
    "for sentence in ['Go .', 'Wow !', \"I'm OK .\", 'I won !']:\n",
    "    print(sentence + ' => ' + d2l.translate_ch7(\n",
    "        model, sentence, src_vocab, tgt_vocab, max_len, ctx))"
   ]
  }
 ],
 "metadata": {
  "celltoolbar": "Slideshow",
  "kernelspec": {
   "display_name": "Python 3",
   "language": "python",
   "name": "python3"
  },
  "language_info": {
   "codemirror_mode": {
    "name": "ipython",
    "version": 3
   },
   "file_extension": ".py",
   "mimetype": "text/x-python",
   "name": "python",
   "nbconvert_exporter": "python",
   "pygments_lexer": "ipython3",
   "version": "3.7.1"
  },
  "toc": {
   "base_numbering": 1,
   "nav_menu": {},
   "number_sections": true,
   "sideBar": true,
   "skip_h1_title": false,
   "title_cell": "Table of Contents",
   "title_sidebar": "Contents",
   "toc_cell": false,
   "toc_position": {},
   "toc_section_display": true,
   "toc_window_display": false
  }
 },
 "nbformat": 4,
 "nbformat_minor": 2
}
