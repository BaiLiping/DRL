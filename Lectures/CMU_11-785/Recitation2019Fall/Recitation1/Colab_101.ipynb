{
  "nbformat": 4,
  "nbformat_minor": 0,
  "metadata": {
    "colab": {
      "name": "Colab_101.ipynb",
      "version": "0.3.2",
      "provenance": []
    },
    "kernelspec": {
      "name": "python3",
      "display_name": "Python 3"
    },
    "accelerator": "GPU"
  },
  "cells": [
    {
      "cell_type": "markdown",
      "metadata": {
        "id": "HzVHVHCVdYSD",
        "colab_type": "text"
      },
      "source": [
        "# Google Colab 101\n",
        "\n",
        "---\n",
        "\n",
        "**_What is Google Colab?_**\n",
        "\n",
        "> Google colab is a cloud based data science work space similar to the jupyter notebook.With Colaboratory you can write and execute code, save and share your analyses, and access powerful computing resources, all for free from your browser.\n",
        "\n",
        "\n",
        "\n",
        "**_What computing power does Google Colab provides?_**\n",
        "\n",
        "> Google Colab connects our work space with a virtual machine  having idle time of **90 minutes** and a maximum limit of **12 hours**. Each virtual machine comes with the following specifications:\n",
        "\n",
        "\n",
        "*   GPU: 1xTesla K80 , having 2496 CUDA cores, compute 3.7,  12GB(11.439GB Usable) GDDR5  VRAM\n",
        "*   CPU: 1xsingle core hyper threaded i.e(1 core, 2 threads) Xeon Processors @2.3Ghz (No Turbo Boost) , 45MB Cache\n",
        "*   RAM: ~12.6 GB Available\n",
        "*   Disk: ~320 GB Available \n",
        "\n",
        "\n",
        "**Word of CAUTION!**\n",
        "\n",
        "> For every 12hrs or so Disk, RAM, VRAM, CPU cache etc data that is on our alloted virtual machine will get erased \n",
        "\n",
        "\n",
        "\n",
        "\n",
        "\n",
        "\n",
        "\n",
        "\n"
      ]
    },
    {
      "cell_type": "markdown",
      "metadata": {
        "id": "Js5U-XA3ojKR",
        "colab_type": "text"
      },
      "source": [
        "**Enabling GPU for  your workspace!**\n",
        "\n",
        "> Go to _Edit_-->_Notebook settings_-->_Choose  Runtime Type(Python2/Python3)_ and _Hardware Accelarator(GPU/TPU)_"
      ]
    },
    {
      "cell_type": "code",
      "metadata": {
        "id": "hqh27OgnruMz",
        "colab_type": "code",
        "outputId": "ec725e18-0cbf-46f7-a993-b4fda465538e",
        "colab": {
          "base_uri": "https://localhost:8080/",
          "height": 36
        }
      },
      "source": [
        "# Check the work space is enabled  with GPU.\n",
        "import torch\n",
        "cuda = torch.cuda.is_available()\n",
        "print(cuda)"
      ],
      "execution_count": 0,
      "outputs": [
        {
          "output_type": "stream",
          "text": [
            "True\n"
          ],
          "name": "stdout"
        }
      ]
    },
    {
      "cell_type": "markdown",
      "metadata": {
        "id": "lO6E0ZKCpcWT",
        "colab_type": "text"
      },
      "source": [
        "**Mounting your Google Drive to Google Colab**\n",
        "> Mounting a drive asks you to provide an authorization code of the account for  which drive data needs to be mounted. Usually select your CMU account as it has more drive space. "
      ]
    },
    {
      "cell_type": "code",
      "metadata": {
        "id": "4JE98GSdpXBD",
        "colab_type": "code",
        "outputId": "a081c491-dfdd-4cce-cc36-ee403e513f86",
        "colab": {
          "base_uri": "https://localhost:8080/",
          "height": 131
        }
      },
      "source": [
        "from google.colab import drive\n",
        "drive.mount('/content/drive')"
      ],
      "execution_count": 0,
      "outputs": [
        {
          "output_type": "stream",
          "text": [
            "Go to this URL in a browser: https://accounts.google.com/o/oauth2/auth?client_id=947318989803-6bn6qk8qdgf4n4g3pfee6491hc0brc4i.apps.googleusercontent.com&redirect_uri=urn%3Aietf%3Awg%3Aoauth%3A2.0%3Aoob&scope=email%20https%3A%2F%2Fwww.googleapis.com%2Fauth%2Fdocs.test%20https%3A%2F%2Fwww.googleapis.com%2Fauth%2Fdrive%20https%3A%2F%2Fwww.googleapis.com%2Fauth%2Fdrive.photos.readonly%20https%3A%2F%2Fwww.googleapis.com%2Fauth%2Fpeopleapi.readonly&response_type=code\n",
            "\n",
            "Enter your authorization code:\n",
            "··········\n",
            "Mounted at /content/drive\n"
          ],
          "name": "stdout"
        }
      ]
    },
    {
      "cell_type": "markdown",
      "metadata": {
        "id": "bUoi2yN5qJuZ",
        "colab_type": "text"
      },
      "source": [
        "**Unzipping/Untarring to Google Drive**\n",
        "\n",
        "*   As Disk alloted to our virtual machine is erased every 12 hours it becomes important to unzipping/untarring our data to Drive instead of doing it on disk space.\n",
        "*   All the linux terminal command works with Google Colab with just a `!` in front."
      ]
    },
    {
      "cell_type": "code",
      "metadata": {
        "id": "QL4yn0wP3M4R",
        "colab_type": "code",
        "outputId": "39ecb8b9-9bcf-412f-d64c-0b09472aeae3",
        "colab": {
          "base_uri": "https://localhost:8080/",
          "height": 36
        }
      },
      "source": [
        "#! can change directory at a cell level. Use % for changing directory for entire work space.\n",
        "% cd \"/content/drive/My Drive/Data/\""
      ],
      "execution_count": 0,
      "outputs": [
        {
          "output_type": "stream",
          "text": [
            "/content/drive/My Drive/Data\n"
          ],
          "name": "stdout"
        }
      ]
    },
    {
      "cell_type": "code",
      "metadata": {
        "id": "5kz2XdE12vhm",
        "colab_type": "code",
        "outputId": "127cb4a6-2f1e-4bdc-fd63-638c9b480063",
        "colab": {
          "base_uri": "https://localhost:8080/",
          "height": 73
        }
      },
      "source": [
        "#In case of a .tar.gz file  use -xvzf\n",
        "!tar -xvf './Colab101/Colab101_files.tar' -C './Colab101/'"
      ],
      "execution_count": 0,
      "outputs": [
        {
          "output_type": "stream",
          "text": [
            "Colab101_files/\n",
            "Colab101_files/data.npy\n",
            "Colab101_files/labels.npy\n"
          ],
          "name": "stdout"
        }
      ]
    },
    {
      "cell_type": "code",
      "metadata": {
        "id": "kbMdU6PQ5yQL",
        "colab_type": "code",
        "cellView": "both",
        "outputId": "a9c84fa1-ff6b-486f-92db-73e4d9f13273",
        "colab": {
          "base_uri": "https://localhost:8080/",
          "height": 92
        }
      },
      "source": [
        "!unzip './Colab101/Colab101_files.zip' -d './Colab101/'"
      ],
      "execution_count": 0,
      "outputs": [
        {
          "output_type": "stream",
          "text": [
            "Archive:  ./Colab101/Colab101_files.zip\n",
            "replace ./Colab101/Colab101_files/data.npy? [y]es, [n]o, [A]ll, [N]one, [r]ename: A\n",
            "  inflating: ./Colab101/Colab101_files/data.npy  \n",
            "  inflating: ./Colab101/Colab101_files/labels.npy  \n"
          ],
          "name": "stdout"
        }
      ]
    },
    {
      "cell_type": "markdown",
      "metadata": {
        "id": "-2lzqoQt7wL-",
        "colab_type": "text"
      },
      "source": [
        "**Installing new python packages**"
      ]
    },
    {
      "cell_type": "code",
      "metadata": {
        "id": "cQaQsZLk6-Rx",
        "colab_type": "code",
        "outputId": "6384a52b-ea58-4652-fb68-9ef70a937352",
        "colab": {
          "base_uri": "https://localhost:8080/",
          "height": 261
        }
      },
      "source": [
        "! pip install --upgrade seaborn"
      ],
      "execution_count": 0,
      "outputs": [
        {
          "output_type": "stream",
          "text": [
            "Requirement already up-to-date: seaborn in /usr/local/lib/python3.6/dist-packages (0.9.0)\n",
            "Requirement already satisfied, skipping upgrade: matplotlib>=1.4.3 in /usr/local/lib/python3.6/dist-packages (from seaborn) (3.0.3)\n",
            "Requirement already satisfied, skipping upgrade: scipy>=0.14.0 in /usr/local/lib/python3.6/dist-packages (from seaborn) (1.3.1)\n",
            "Requirement already satisfied, skipping upgrade: numpy>=1.9.3 in /usr/local/lib/python3.6/dist-packages (from seaborn) (1.16.4)\n",
            "Requirement already satisfied, skipping upgrade: pandas>=0.15.2 in /usr/local/lib/python3.6/dist-packages (from seaborn) (0.24.2)\n",
            "Requirement already satisfied, skipping upgrade: cycler>=0.10 in /usr/local/lib/python3.6/dist-packages (from matplotlib>=1.4.3->seaborn) (0.10.0)\n",
            "Requirement already satisfied, skipping upgrade: kiwisolver>=1.0.1 in /usr/local/lib/python3.6/dist-packages (from matplotlib>=1.4.3->seaborn) (1.1.0)\n",
            "Requirement already satisfied, skipping upgrade: pyparsing!=2.0.4,!=2.1.2,!=2.1.6,>=2.0.1 in /usr/local/lib/python3.6/dist-packages (from matplotlib>=1.4.3->seaborn) (2.4.2)\n",
            "Requirement already satisfied, skipping upgrade: python-dateutil>=2.1 in /usr/local/lib/python3.6/dist-packages (from matplotlib>=1.4.3->seaborn) (2.5.3)\n",
            "Requirement already satisfied, skipping upgrade: pytz>=2011k in /usr/local/lib/python3.6/dist-packages (from pandas>=0.15.2->seaborn) (2018.9)\n",
            "Requirement already satisfied, skipping upgrade: six in /usr/local/lib/python3.6/dist-packages (from cycler>=0.10->matplotlib>=1.4.3->seaborn) (1.12.0)\n",
            "Requirement already satisfied, skipping upgrade: setuptools in /usr/local/lib/python3.6/dist-packages (from kiwisolver>=1.0.1->matplotlib>=1.4.3->seaborn) (41.0.1)\n"
          ],
          "name": "stdout"
        }
      ]
    },
    {
      "cell_type": "markdown",
      "metadata": {
        "id": "yJpNeZgB9fnj",
        "colab_type": "text"
      },
      "source": [
        "**Working with Colaboratoy work space**\n",
        "\n",
        "> USE LIKE JUPYTER! (no rocket science here) "
      ]
    },
    {
      "cell_type": "code",
      "metadata": {
        "id": "7awkvvoC79Sx",
        "colab_type": "code",
        "colab": {}
      },
      "source": [
        "import numpy as np"
      ],
      "execution_count": 0,
      "outputs": []
    },
    {
      "cell_type": "code",
      "metadata": {
        "id": "8UJf5Z4H94ho",
        "colab_type": "code",
        "outputId": "ffb76066-4fe2-4bb5-85c1-0e6fc36e2d13",
        "colab": {
          "base_uri": "https://localhost:8080/",
          "height": 36
        }
      },
      "source": [
        "data = np.load('./Colab101/Colab101_files/data.npy')\n",
        "labels = np.load('./Colab101/Colab101_files/labels.npy')\n",
        "print(data.shape, labels.shape)"
      ],
      "execution_count": 0,
      "outputs": [
        {
          "output_type": "stream",
          "text": [
            "(100, 40) (100, 1)\n"
          ],
          "name": "stdout"
        }
      ]
    },
    {
      "cell_type": "markdown",
      "metadata": {
        "id": "rzvSx2Gc-XC9",
        "colab_type": "text"
      },
      "source": [
        "**Useful Colab Notebooks  and links**\n",
        "\n",
        "*   [Getting Started with Google Colab](https://towardsdatascience.com/getting-started-with-google-colab-f2fff97f594c)\n",
        "*   [Accessing External Data: Local Files, Google Drive](https://colab.research.google.com/notebooks/io.ipynb#scrollTo=5iRYBSVCbAlK)\n",
        "*   [Syncing/Saving to Github](https://colab.research.google.com/github/googlecolab/colabtools/blob/master/notebooks/colab-github-demo.ipynb)"
      ]
    }
  ]
}