{
 "cells": [
  {
   "cell_type": "code",
   "execution_count": 2,
   "metadata": {},
   "outputs": [
    {
     "data": {
      "text/html": [
       "<style>\n",
       "    table {\n",
       "        display: inline-block\n",
       "    }\n",
       "</style>\n"
      ],
      "text/plain": [
       "<IPython.core.display.HTML object>"
      ]
     },
     "metadata": {},
     "output_type": "display_data"
    }
   ],
   "source": [
    "%%html\n",
    "<style>\n",
    "    table {\n",
    "        display: inline-block\n",
    "    }\n",
    "</style>"
   ]
  },
  {
   "cell_type": "markdown",
   "metadata": {},
   "source": [
    "# Recitation 0c\n",
    "## *AWS, SageMaker, IPython, and Jupyter Notebook*\n",
    "\n",
    "## Authors\n",
    "> Joseph Konan <jkonan@andrew.cmu.edu> \n",
    "\n",
    "## Table of Contents\n",
    "1. AWS Instance Types and Pricing\n",
    "2. SageMaker Notebook Instances\n",
    "3. Basics of IPython\n",
    "4. Modes in Jupyter Notebook\n",
    "5. General Jupyter Shortcuts\n",
    "6. Jupyter Edit Mode\n",
    "7. Jupyter Command Mode\n",
    "8. Starting and Submitting Homework 0\n",
    "\n",
    "## 1. AWS Instance Types and Pricing\n",
    "\n",
    "In Recitation 1, you will learn how to create an EC2 instance and request access to GPUs. In this recitation, we will learn how to use SageMaker to create a Notebook Instance. In comparison, EC2 instances are generally cheaper and more versitile while Notebook Instances are more expensive and easier to use if you like Jupyter.\n",
    "\n",
    "Though both EC2 and SageMaker have \"free tier\" resources, it's important to note that the resources we will be using cost money. \n",
    "\n",
    "### Here is a breakdown of some costs:\n",
    "\n",
    "***Amazon T3 Instances do not use a GPU.***\n",
    "\n",
    "| AWS       | Instance     | GPUs | vCPU | Mem (GiB) | GPU Mem (GiB) | Networking Performance | Price per Hour   |\n",
    "|-----------|--------------|------|------|-----------|---------------|------------------------|------------------|\n",
    "| EC2       | t3.medium    | 0    | 2    | 24        | 0             | Low to Moderate        | $^*$\\$0.0416     |\n",
    "| SageMaker | ml.t3.medium | 0    | 2    | 24        | 0             | Low to Moderate        | $^*$\\$0.0582     |\n",
    "\n",
    "\n",
    "***Amazon P2 Instances use NVIDIA Tesla K80 GPUs.***\n",
    "\n",
    "| AWS       | Instance     | GPUs | vCPU | Mem (GiB) | GPU Mem (GiB) | Networking Performance | Price per Hour   |\n",
    "|-----------|--------------|------|------|-----------|---------------|------------------------|------------------|\n",
    "| EC2       | p2.xlarge    | 1    | 4    | 61        | 12            | High                   | $^*$\\$0.9        |\n",
    "| SageMaker | ml.p2.xlarge | 1    | 4    | 61        | 12            | High                   | $^*$\\$1.26       |\n",
    "\n",
    "\n",
    "***Amazon P3 Instances use NVIDIA Tesla V100 GPUs.***\n",
    "\n",
    "| AWS       | Instance      | GPUs | vCPU | Mem (GiB) | GPU Mem (GiB) | Networking Performance | Price per Hour   |\n",
    "|-----------|---------------|------|------|-----------|---------------|------------------------|------------------|\n",
    "| EC2       | p3.2xlarge    | 1    | 8    | 61        | 16            | Up to 10 Gigabit       | $^*$\\$3.06       |\n",
    "| SageMaker | ml.p3.2xlarge | 1    | 8    | 61        | 16            | Up to 10 Gigabit       | $^*$\\$4.284      |\n",
    "\n",
    "$^*$Prices are from AWS, Region West (Ohio), 7:00AM EDT, July 23, 2019\n",
    "\n",
    "<h3><center>$^†$NVIDIA Tesla K80 vs. Tesla V100</center></h3>\n",
    "<img src=\"images/K80-V100-comparison.png\" alt=\"Chart Comparing Tesla K80 and Tesla V100\" style=\"width: 400px;\"/>\n",
    "\n",
    "Image Source: [NVIDIA TESLA V100 GPU ACCELERATOR](https://www.workstationspecialist.com/media/wysiwyg/pny/tesla-volta-v100-datasheet-letter-fnl-web.pdf)\n",
    "\n",
    "$^†$Image was modified to remove irrelevent P100 metrics.\n",
    "\n",
    "When to use a GPU:\n",
    "- You are finished or almost finished debugging\n",
    "- You double checked that you have the correct model\n",
    "- You are ready to train, so using GPU will be faster\n",
    "\n",
    "When not to use a GPU:\n",
    "- You are still writing data manipulation methods\n",
    "- You have not finished debugging and are creating a model\n",
    "- You are not ready to train or you do not need to train faster\n",
    "\n",
    "Official AWS Instance Prices: https://aws.amazon.com/ec2/pricing/on-demand/\n",
    "\n",
    "Tool to Compare Instance Prices: https://www.ec2instances.info/\n",
    "\n",
    "### EC2 Spot Pricing\n",
    "\n",
    "Instance usage that is not purchased on-demand uses spot pricing, which is the current market price of the instance.\n",
    "\n",
    "***Disadvantages of Spot Pricing:***\n",
    "- You may have your process terminated if someone else wants your instance on-demand.\n",
    "\n",
    "***Advantages of Spot Pricing:***\n",
    "- Spot priced instances can be up to 90% cheaper than on-deman instances.\n",
    "- This is a nice way to save money if you are not in a rush and don't mind inturruptions.\n",
    "\n",
    "Details and Current Rates for Spot Pricing: https://aws.amazon.com/ec2/spot/pricing/\n",
    "\n",
    "## 2. SageMaker Instance Types\n",
    "\n",
    "Amazon SageMaker is a special, preconfigured instance that alows you to specifically run a terminal and jupyter notebook for machine learning. These are more expensive than EC2 instances, which you will learn more about in Recitation 1, but is easier to use. \n",
    "> 1. Open the Amazon SageMaker console at https://console.aws.amazon.com/sagemaker/.\n",
    "> \n",
    "> 2. Choose Notebook instances, then choose Create notebook instance.\n",
    "> \n",
    "> 3. On the Create notebook instance page, provide the following information (if a field is not mentioned, leave the default values): \n",
    "<br> a. For Notebook instance name, type a name for your notebook instance.\n",
    "<br> b. For Instance type, choose ml.t2.medium. This is the least expensive instance type that notebook instances support, and it suffices for this exercise.\n",
    "<br> c. For IAM role, choose Create a new role, then choose Create role.\n",
    "<br> d. Choose Create notebook instance.\n",
    "<br> In a few minutes, Amazon SageMaker launches an ML compute instance—in this case, a notebook instance—and attaches an ML storage volume to it. The notebook instance has a preconfigured Jupyter notebook server and a set of Anaconda libraries.\n",
    ">\n",
    "> — Source: [AWS, Create an Amazon SageMaker Notebook Instance](https://docs.aws.amazon.com/sagemaker/latest/dg/gs-setup-working-env.html)\n",
    "\n",
    "A note on free tier...\n",
    "> As part of the AWS Free Tier, you can get started with Amazon SageMaker for free. For the first two months after sign-up, you are offered a monthly free tier of 250 hours of t2.medium or t3.medium notebook usage for building your models, plus 50 hours of m4.xlarge or m5.xlarge for training, plus 125 hours of m4.xlarge or m5.xlarge for deploying your machine learning models for real-time inferencing and batch transform with Amazon SageMaker. Your free tier starts from the first month when you create your first SageMaker resource.\n",
    ">\n",
    "> Source: [Amazon SageMaker Pricing](https://aws.amazon.com/sagemaker/pricing/)\n",
    "\n",
    "## 3. Basics of IPython\n",
    "\n",
    "IPython is a python interpreter that we will use for interactive computing and is native to Jupyter Notebooks. \n",
    "\n",
    "### Here are some basic commands to get you started:"
   ]
  },
  {
   "cell_type": "markdown",
   "metadata": {},
   "source": [
    "#### `?` gives an introduction and overview of IPython's features."
   ]
  },
  {
   "cell_type": "code",
   "execution_count": 1,
   "metadata": {},
   "outputs": [],
   "source": [
    "?"
   ]
  },
  {
   "cell_type": "markdown",
   "metadata": {},
   "source": [
    "#### `%quickref` gives a quick reference of all IPython specific syntax and magics."
   ]
  },
  {
   "cell_type": "code",
   "execution_count": 3,
   "metadata": {},
   "outputs": [],
   "source": [
    "%quickref"
   ]
  },
  {
   "cell_type": "markdown",
   "metadata": {},
   "source": [
    "#### `object?` gives details about 'object'."
   ]
  },
  {
   "cell_type": "code",
   "execution_count": 4,
   "metadata": {},
   "outputs": [],
   "source": [
    "from torchvision.models.resnet import resnet18\n",
    "\n",
    "resnet18?"
   ]
  },
  {
   "cell_type": "markdown",
   "metadata": {},
   "source": [
    "#### `object??` gives more detailed, verbose information about 'object'."
   ]
  },
  {
   "cell_type": "code",
   "execution_count": 5,
   "metadata": {},
   "outputs": [],
   "source": [
    "resnet18??"
   ]
  },
  {
   "cell_type": "markdown",
   "metadata": {},
   "source": [
    "#### `help` gives access to Python's own help system."
   ]
  },
  {
   "cell_type": "code",
   "execution_count": 6,
   "metadata": {},
   "outputs": [
    {
     "name": "stdout",
     "output_type": "stream",
     "text": [
      "Help on function resnet18 in module torchvision.models.resnet:\n",
      "\n",
      "resnet18(pretrained=False, progress=True, **kwargs)\n",
      "    Constructs a ResNet-18 model.\n",
      "    \n",
      "    Args:\n",
      "        pretrained (bool): If True, returns a model pre-trained on ImageNet\n",
      "        progress (bool): If True, displays a progress bar of the download to stderr\n",
      "\n"
     ]
    }
   ],
   "source": [
    "help(resnet18)"
   ]
  },
  {
   "cell_type": "markdown",
   "metadata": {},
   "source": [
    "#### `!` gives access to any shell command."
   ]
  },
  {
   "cell_type": "code",
   "execution_count": 6,
   "metadata": {},
   "outputs": [
    {
     "name": "stdout",
     "output_type": "stream",
     "text": [
      "vm.swapusage: total = 2048.00M  used = 337.75M  free = 1710.25M  (encrypted)\r\n"
     ]
    }
   ],
   "source": [
    "!sysctl vm.swapusage"
   ]
  },
  {
   "cell_type": "markdown",
   "metadata": {},
   "source": [
    "`%%bash` allows you to make execute multiple shell commands."
   ]
  },
  {
   "cell_type": "code",
   "execution_count": 8,
   "metadata": {},
   "outputs": [
    {
     "name": "stdout",
     "output_type": "stream",
     "text": [
      "images\n",
      "recitation-Copy1.ipynb\n",
      "recitation.ipynb\n",
      "/Users/work/School/11785-f19/Recitation/Recitation 0C/example-dir\n",
      "Thu Jul 25 09:30:05 PDT 2019 Train accuracy: 90%.\n"
     ]
    }
   ],
   "source": [
    "%%bash \n",
    "ls\n",
    "mkdir example-dir\n",
    "cd example-dir\n",
    "pwd\n",
    "touch logs.txt\n",
    "echo $(date) Train accuracy: 90%. >> logs.txt\n",
    "cat logs.txt"
   ]
  },
  {
   "cell_type": "code",
   "execution_count": 9,
   "metadata": {},
   "outputs": [],
   "source": [
    "!rm -r example-dir"
   ]
  },
  {
   "cell_type": "markdown",
   "metadata": {},
   "source": [
    "## 4. Modes in Jupyter Notebook\n",
    "\n",
    "Jupyter notebooks have two modes:\n",
    "- **Edit Mode**, which can be accessed by pressing `enter`\n",
    "- **Command Mode**, which can be accessed by pressing `esc`\n",
    "\n",
    "You can tell which mode you are in by looking at your cell boarder, or by looking under the Python icon in the top right.\n",
    "\n",
    "If you look at the cell boarder:\n",
    "- Green means you are in **Edit Mode**\n",
    "![Edit Mode Boarder](images/edit-mode-boarder.png)\n",
    "- Blue means you are in **Command Mode**\n",
    "![Command Mode Boarder](images/command-mode-boarder.png)\n",
    "\n",
    "If you look under the Python icon (top right):\n",
    "- A pencil icon indicates you are in **Edit Mode**\n",
    "![Edit Mode Icon](images/edit-mode-icon.png)\n",
    "- No pencel icon means you are in **Command Mode**\n",
    "![Command Mode Icon](images/command-mode-icon.png)\n",
    "\n",
    "You can also switch to edit mode by clicking inside a cell, or switch to command mode by clicking outside the cells.\n",
    "![Switching Modes in Jupyter](images/switching-modes.gif)\n",
    "\n",
    "\n",
    "## 5. General Jupyter Shortcuts\n",
    "\n",
    "These shortcuts work in both **Edit Mode** and **Command Mode**.\n",
    "\n",
    "- `shift` + `enter` to run cell, select below\n",
    "- `control` + `enter` to run selected cells\n",
    "- `option` + `enter` to run cell and insert below\n",
    "- `command` + `S` to Save and Checkpoint\n",
    "\n",
    "\n",
    "## 6. Jupyter Edit Mode\n",
    "\n",
    "When in Edit Mode, you can press:\n",
    "\n",
    "- `tab` to code completion or indent.\n",
    "- `shift` + `tab` for tooltip.\n",
    "- `command` + `]` to indent.\n",
    "- `command` + `[` to dedent.\n",
    "- `command` + `A` to select all.\n",
    "- `command` + `Z` to undo.\n",
    "- `command` + `shift` + `Z` to redo.\n",
    "- `command` + `↑` to go to cell start.\n",
    "- `command` + `↓` to go to cell end.\n",
    "- `command` + `→` to go to line end.\n",
    "- `command` + `←` to go to line start.\n",
    "- `command` + `shift` + `P` to open the command palette.\n",
    "- `↑` to move cursor up.\n",
    "- `↓` to move cursor down.\n",
    "\n",
    "\n",
    "## 7. Jupyter Command Mode\n",
    "\n",
    "While in command mode (press Esc to activate):\n",
    "Enter take you into edit mode\n",
    "\n",
    "- `H` to show keyboard shortcuts.\n",
    "- `↑` to select cell above.\n",
    "- `↓` to select cell below.\n",
    "- `shift` + `↑` to extend selected cells above.\n",
    "- `shift` + `↓` to extend selected cells below.\n",
    "- `A` to insert cell above.\n",
    "- `B` to insert cell below.\n",
    "- `X` to cut selected cells.\n",
    "- `C` to copy selected cells.\n",
    "- `V` to paste cells below.\n",
    "- `shift` + `V` to paste cells above.\n",
    "- `D`, `D` to delete selected cells.\n",
    "- `Z` to undo cell deletion.\n",
    "- `S` to Save and Checkpoint.\n",
    "- `Y` to change cell to code.\n",
    "- `M` to change cell to markdown.\n",
    "- `P` to change cell to raw.\n",
    "- `shift` + `space` to scroll notebook up.\n",
    "- `space` to scroll notebook down."
   ]
  },
  {
   "cell_type": "markdown",
   "metadata": {},
   "source": [
    "## 8. Starting and Submitting Homework 0\n",
    "\n",
    "Homework 0 is on basic math and data processing tasks that you will use in the course. This primer is only worth 1% of your grade, but we encourage you to do it so you will be better prepared for future homeworks.\n",
    "\n",
    "To get started:\n",
    "1. Open AutoLab and download the Homework 0 Handout.\n",
    "2. Go to your SageMaker Notebook Instance; open the dashboard.\n",
    "3. On the top right, click upload; select your doccument (hw0.ipynb); and upload it.\n",
    "4. We open the notebook like any other notebook; make edits as appropriate.\n",
    "5. Save the notebook.\n",
    "6. Download the notebook with `File` > `Download as` > `Notebook (.ipynb)`.\n",
    "7. Go to AutoLab and upload the hw0.ipynb; and agree to the terms if you followed them.\n",
    "8. Check your grade to see what you got. Feel free to upload as many times as you want."
   ]
  },
  {
   "cell_type": "code",
   "execution_count": null,
   "metadata": {},
   "outputs": [],
   "source": []
  }
 ],
 "metadata": {
  "kernelspec": {
   "display_name": "Python 3",
   "language": "python",
   "name": "python3"
  },
  "language_info": {
   "codemirror_mode": {
    "name": "ipython",
    "version": 3
   },
   "file_extension": ".py",
   "mimetype": "text/x-python",
   "name": "python",
   "nbconvert_exporter": "python",
   "pygments_lexer": "ipython3",
   "version": "3.7.3"
  }
 },
 "nbformat": 4,
 "nbformat_minor": 2
}
